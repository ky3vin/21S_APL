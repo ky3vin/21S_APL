{
 "cells": [
  {
   "cell_type": "code",
   "execution_count": 1,
   "id": "1795401a",
   "metadata": {},
   "outputs": [
    {
     "data": {
      "text/html": [
       "<div>\n",
       "<style scoped>\n",
       "    .dataframe tbody tr th:only-of-type {\n",
       "        vertical-align: middle;\n",
       "    }\n",
       "\n",
       "    .dataframe tbody tr th {\n",
       "        vertical-align: top;\n",
       "    }\n",
       "\n",
       "    .dataframe thead th {\n",
       "        text-align: right;\n",
       "    }\n",
       "</style>\n",
       "<table border=\"1\" class=\"dataframe\">\n",
       "  <thead>\n",
       "    <tr style=\"text-align: right;\">\n",
       "      <th></th>\n",
       "      <th>antecedents</th>\n",
       "      <th>consequents</th>\n",
       "      <th>antecedent support</th>\n",
       "      <th>consequent support</th>\n",
       "      <th>support</th>\n",
       "      <th>confidence</th>\n",
       "      <th>lift</th>\n",
       "      <th>leverage</th>\n",
       "      <th>conviction</th>\n",
       "    </tr>\n",
       "  </thead>\n",
       "  <tbody>\n",
       "    <tr>\n",
       "      <th>0</th>\n",
       "      <td>frozenset({'ASSETS_VAL_1_60'})</td>\n",
       "      <td>frozenset({'101.231.133.165'})</td>\n",
       "      <td>0.561955</td>\n",
       "      <td>0.001190</td>\n",
       "      <td>0.001114</td>\n",
       "      <td>0.001982</td>\n",
       "      <td>1.664695</td>\n",
       "      <td>0.000445</td>\n",
       "      <td>1.000793</td>\n",
       "    </tr>\n",
       "    <tr>\n",
       "      <th>1</th>\n",
       "      <td>frozenset({'101.231.133.165'})</td>\n",
       "      <td>frozenset({'ASSETS_VAL_1_60'})</td>\n",
       "      <td>0.001190</td>\n",
       "      <td>0.561955</td>\n",
       "      <td>0.001114</td>\n",
       "      <td>0.935484</td>\n",
       "      <td>1.664695</td>\n",
       "      <td>0.000445</td>\n",
       "      <td>6.789694</td>\n",
       "    </tr>\n",
       "    <tr>\n",
       "      <th>2</th>\n",
       "      <td>frozenset({'ASSETS_VAL_1_50'})</td>\n",
       "      <td>frozenset({'103.139.2.240'})</td>\n",
       "      <td>0.322851</td>\n",
       "      <td>0.002304</td>\n",
       "      <td>0.002112</td>\n",
       "      <td>0.006541</td>\n",
       "      <td>2.839290</td>\n",
       "      <td>0.001368</td>\n",
       "      <td>1.004265</td>\n",
       "    </tr>\n",
       "    <tr>\n",
       "      <th>3</th>\n",
       "      <td>frozenset({'103.139.2.240'})</td>\n",
       "      <td>frozenset({'ASSETS_VAL_1_50'})</td>\n",
       "      <td>0.002304</td>\n",
       "      <td>0.322851</td>\n",
       "      <td>0.002112</td>\n",
       "      <td>0.916667</td>\n",
       "      <td>2.839290</td>\n",
       "      <td>0.001368</td>\n",
       "      <td>8.125792</td>\n",
       "    </tr>\n",
       "    <tr>\n",
       "      <th>4</th>\n",
       "      <td>frozenset({'103.233.103.20'})</td>\n",
       "      <td>frozenset({'ASSETS_VAL_1_60'})</td>\n",
       "      <td>0.001459</td>\n",
       "      <td>0.561955</td>\n",
       "      <td>0.001229</td>\n",
       "      <td>0.842105</td>\n",
       "      <td>1.498527</td>\n",
       "      <td>0.000409</td>\n",
       "      <td>2.774284</td>\n",
       "    </tr>\n",
       "    <tr>\n",
       "      <th>...</th>\n",
       "      <td>...</td>\n",
       "      <td>...</td>\n",
       "      <td>...</td>\n",
       "      <td>...</td>\n",
       "      <td>...</td>\n",
       "      <td>...</td>\n",
       "      <td>...</td>\n",
       "      <td>...</td>\n",
       "      <td>...</td>\n",
       "    </tr>\n",
       "    <tr>\n",
       "      <th>289</th>\n",
       "      <td>frozenset({'ASSETS_VAL_5_100', 'ASSETS_VAL_4_1...</td>\n",
       "      <td>frozenset({'ASSETS_VAL_3_100', 'ASSETS_VAL_1_6...</td>\n",
       "      <td>0.003417</td>\n",
       "      <td>0.121223</td>\n",
       "      <td>0.003379</td>\n",
       "      <td>0.988764</td>\n",
       "      <td>8.156599</td>\n",
       "      <td>0.002965</td>\n",
       "      <td>78.211189</td>\n",
       "    </tr>\n",
       "    <tr>\n",
       "      <th>290</th>\n",
       "      <td>frozenset({'ASSETS_VAL_3_100'})</td>\n",
       "      <td>frozenset({'ASSETS_VAL_4_100', 'ASSETS_VAL_5_1...</td>\n",
       "      <td>0.122567</td>\n",
       "      <td>0.003417</td>\n",
       "      <td>0.003379</td>\n",
       "      <td>0.027569</td>\n",
       "      <td>8.067162</td>\n",
       "      <td>0.002960</td>\n",
       "      <td>1.024836</td>\n",
       "    </tr>\n",
       "    <tr>\n",
       "      <th>291</th>\n",
       "      <td>frozenset({'ASSETS_VAL_1_60'})</td>\n",
       "      <td>frozenset({'ASSETS_VAL_3_100', 'ASSETS_VAL_5_1...</td>\n",
       "      <td>0.561955</td>\n",
       "      <td>0.003379</td>\n",
       "      <td>0.003379</td>\n",
       "      <td>0.006013</td>\n",
       "      <td>1.779501</td>\n",
       "      <td>0.001480</td>\n",
       "      <td>1.002650</td>\n",
       "    </tr>\n",
       "    <tr>\n",
       "      <th>292</th>\n",
       "      <td>frozenset({'ASSETS_VAL_5_100'})</td>\n",
       "      <td>frozenset({'ASSETS_VAL_3_100', 'ASSETS_VAL_4_1...</td>\n",
       "      <td>0.005990</td>\n",
       "      <td>0.006720</td>\n",
       "      <td>0.003379</td>\n",
       "      <td>0.564103</td>\n",
       "      <td>83.948132</td>\n",
       "      <td>0.003339</td>\n",
       "      <td>2.278702</td>\n",
       "    </tr>\n",
       "    <tr>\n",
       "      <th>293</th>\n",
       "      <td>frozenset({'ASSETS_VAL_4_100'})</td>\n",
       "      <td>frozenset({'ASSETS_VAL_3_100', 'ASSETS_VAL_5_1...</td>\n",
       "      <td>0.086588</td>\n",
       "      <td>0.003417</td>\n",
       "      <td>0.003379</td>\n",
       "      <td>0.039024</td>\n",
       "      <td>11.419238</td>\n",
       "      <td>0.003083</td>\n",
       "      <td>1.037053</td>\n",
       "    </tr>\n",
       "  </tbody>\n",
       "</table>\n",
       "<p>294 rows × 9 columns</p>\n",
       "</div>"
      ],
      "text/plain": [
       "                                           antecedents  \\\n",
       "0                       frozenset({'ASSETS_VAL_1_60'})   \n",
       "1                       frozenset({'101.231.133.165'})   \n",
       "2                       frozenset({'ASSETS_VAL_1_50'})   \n",
       "3                         frozenset({'103.139.2.240'})   \n",
       "4                        frozenset({'103.233.103.20'})   \n",
       "..                                                 ...   \n",
       "289  frozenset({'ASSETS_VAL_5_100', 'ASSETS_VAL_4_1...   \n",
       "290                    frozenset({'ASSETS_VAL_3_100'})   \n",
       "291                     frozenset({'ASSETS_VAL_1_60'})   \n",
       "292                    frozenset({'ASSETS_VAL_5_100'})   \n",
       "293                    frozenset({'ASSETS_VAL_4_100'})   \n",
       "\n",
       "                                           consequents  antecedent support  \\\n",
       "0                       frozenset({'101.231.133.165'})            0.561955   \n",
       "1                       frozenset({'ASSETS_VAL_1_60'})            0.001190   \n",
       "2                         frozenset({'103.139.2.240'})            0.322851   \n",
       "3                       frozenset({'ASSETS_VAL_1_50'})            0.002304   \n",
       "4                       frozenset({'ASSETS_VAL_1_60'})            0.001459   \n",
       "..                                                 ...                 ...   \n",
       "289  frozenset({'ASSETS_VAL_3_100', 'ASSETS_VAL_1_6...            0.003417   \n",
       "290  frozenset({'ASSETS_VAL_4_100', 'ASSETS_VAL_5_1...            0.122567   \n",
       "291  frozenset({'ASSETS_VAL_3_100', 'ASSETS_VAL_5_1...            0.561955   \n",
       "292  frozenset({'ASSETS_VAL_3_100', 'ASSETS_VAL_4_1...            0.005990   \n",
       "293  frozenset({'ASSETS_VAL_3_100', 'ASSETS_VAL_5_1...            0.086588   \n",
       "\n",
       "     consequent support   support  confidence       lift  leverage  conviction  \n",
       "0              0.001190  0.001114    0.001982   1.664695  0.000445    1.000793  \n",
       "1              0.561955  0.001114    0.935484   1.664695  0.000445    6.789694  \n",
       "2              0.002304  0.002112    0.006541   2.839290  0.001368    1.004265  \n",
       "3              0.322851  0.002112    0.916667   2.839290  0.001368    8.125792  \n",
       "4              0.561955  0.001229    0.842105   1.498527  0.000409    2.774284  \n",
       "..                  ...       ...         ...        ...       ...         ...  \n",
       "289            0.121223  0.003379    0.988764   8.156599  0.002965   78.211189  \n",
       "290            0.003417  0.003379    0.027569   8.067162  0.002960    1.024836  \n",
       "291            0.003379  0.003379    0.006013   1.779501  0.001480    1.002650  \n",
       "292            0.006720  0.003379    0.564103  83.948132  0.003339    2.278702  \n",
       "293            0.003417  0.003379    0.039024  11.419238  0.003083    1.037053  \n",
       "\n",
       "[294 rows x 9 columns]"
      ]
     },
     "execution_count": 1,
     "metadata": {},
     "output_type": "execute_result"
    }
   ],
   "source": [
    "import numpy as np\n",
    "import pandas as pd\n",
    "from pandas import Series\n",
    "import json\n",
    "from pandas import json_normalize\n",
    "import time\n",
    "df_result = pd.read_csv('data/df_result.csv',low_memory=False, index_col = 0)\n",
    "df_result"
   ]
  },
  {
   "cell_type": "code",
   "execution_count": 2,
   "id": "9e183f08",
   "metadata": {},
   "outputs": [
    {
     "name": "stdout",
     "output_type": "stream",
     "text": [
      "Requirement already satisfied: elasticsearch in c:\\users\\yevinkwon\\anaconda3\\lib\\site-packages (7.13.4)\n",
      "Requirement already satisfied: urllib3<2,>=1.21.1 in c:\\users\\yevinkwon\\anaconda3\\lib\\site-packages (from elasticsearch) (1.26.4)\n",
      "Requirement already satisfied: certifi in c:\\users\\yevinkwon\\anaconda3\\lib\\site-packages (from elasticsearch) (2020.12.5)\n"
     ]
    }
   ],
   "source": [
    "#필요한 라이브러리 설치\n",
    "!pip install elasticsearch"
   ]
  },
  {
   "cell_type": "code",
   "execution_count": 3,
   "id": "45c6ed1f",
   "metadata": {},
   "outputs": [],
   "source": [
    "#필요한 패키지 가져오고 파이썬에서 엘라스틱 연결\n",
    "from elasticsearch import Elasticsearch\n",
    "from elasticsearch import helpers\n",
    "es = Elasticsearch(HOST=\"http://localhost\", PORT=9200)"
   ]
  },
  {
   "cell_type": "code",
   "execution_count": 4,
   "id": "f78d7148",
   "metadata": {},
   "outputs": [
    {
     "data": {
      "text/plain": [
       "['antecedents',\n",
       " 'consequents',\n",
       " 'antecedent support',\n",
       " 'consequent support',\n",
       " 'support',\n",
       " 'confidence',\n",
       " 'lift',\n",
       " 'leverage',\n",
       " 'conviction']"
      ]
     },
     "execution_count": 4,
     "metadata": {},
     "output_type": "execute_result"
    }
   ],
   "source": [
    "list(df_result.columns.values)"
   ]
  },
  {
   "cell_type": "code",
   "execution_count": 5,
   "id": "8ecc97d1",
   "metadata": {},
   "outputs": [],
   "source": [
    "df_new = df_result.copy()[['antecedents','consequents','support','confidence','lift']]"
   ]
  },
  {
   "cell_type": "code",
   "execution_count": 6,
   "id": "8fde954b",
   "metadata": {},
   "outputs": [],
   "source": [
    "#frozenset to string\n",
    "df_result[\"antecedents\"] = df_result[\"antecedents\"].apply(lambda x: ', '.join(list(x))).astype(\"unicode\")\n",
    "df_result[\"consequents\"] = df_result[\"consequents\"].apply(lambda x: ', '.join(list(x))).astype(\"unicode\")"
   ]
  },
  {
   "cell_type": "code",
   "execution_count": 7,
   "id": "1b77fb6a",
   "metadata": {},
   "outputs": [],
   "source": [
    "import random\n",
    "import string"
   ]
  },
  {
   "cell_type": "code",
   "execution_count": 10,
   "id": "64fa81a4",
   "metadata": {},
   "outputs": [
    {
     "data": {
      "text/plain": [
       "{'took': 41,\n",
       " 'timed_out': False,\n",
       " 'total': 294,\n",
       " 'deleted': 294,\n",
       " 'batches': 1,\n",
       " 'version_conflicts': 0,\n",
       " 'noops': 0,\n",
       " 'retries': {'bulk': 0, 'search': 0},\n",
       " 'throttled_millis': 0,\n",
       " 'requests_per_second': -1.0,\n",
       " 'throttled_until_millis': 0,\n",
       " 'failures': []}"
      ]
     },
     "execution_count": 10,
     "metadata": {},
     "output_type": "execute_result"
    }
   ],
   "source": [
    "#함수를 실행할 때 마다 Index에 데이터가 추가됨. 실행 전 기존 Index 내부 데이터 삭제\n",
    "es.delete_by_query(index='es_res', doc_type=\"_doc\", body='{\"query\":{\"match_all\":{}}}')"
   ]
  },
  {
   "cell_type": "code",
   "execution_count": 11,
   "id": "cf299fbc",
   "metadata": {},
   "outputs": [
    {
     "data": {
      "text/plain": [
       "(294, [])"
      ]
     },
     "execution_count": 11,
     "metadata": {},
     "output_type": "execute_result"
    }
   ],
   "source": [
    "def doc_generator(df):\n",
    "    df_iter = df.iterrows()\n",
    "    for index, document in df_iter:\n",
    "        try:\n",
    "            yield{\n",
    "                \"_index\" : 'es_res',\n",
    "                \"_type\" : \"_doc\",\n",
    "                \"_id\" : \"\".join([random.choice(string.ascii_letters) for _ in range(10)]),\n",
    "                \"_source\":filterKeys(document),\n",
    "            }\n",
    "        except StopIteration:\n",
    "            return\n",
    "    \n",
    "use_these_keys = list(df_new.columns.values)\n",
    "\n",
    "def filterKeys(document):\n",
    "    return {key: document[key] for key in use_these_keys}\n",
    "\n",
    "helpers.bulk(es, doc_generator(df_new))"
   ]
  }
 ],
 "metadata": {
  "kernelspec": {
   "display_name": "Python 3",
   "language": "python",
   "name": "python3"
  },
  "language_info": {
   "codemirror_mode": {
    "name": "ipython",
    "version": 3
   },
   "file_extension": ".py",
   "mimetype": "text/x-python",
   "name": "python",
   "nbconvert_exporter": "python",
   "pygments_lexer": "ipython3",
   "version": "3.8.8"
  }
 },
 "nbformat": 4,
 "nbformat_minor": 5
}
