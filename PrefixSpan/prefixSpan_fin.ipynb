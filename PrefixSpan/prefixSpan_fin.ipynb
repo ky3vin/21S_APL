{
 "cells": [
  {
   "cell_type": "markdown",
   "id": "43778d27",
   "metadata": {},
   "source": [
    "결과 예시 :<br/>\n",
    "(['210.123.38.21', '80', 'TCP', '국민대학교'...],['웹해킹'],99) <br/>\n",
    "1. 첫 번째 []는 `INST_NM`, `ASSETS_VAL_1-22`, `TW_ATT_IP`,`TW_ATT_PORT`,`TW_DMG_IP`,`TW_DMG_PORT`,`TW_ATT_CT_CODE`, `INTENT_VAL_0-6` <br/>\n",
    "2. 두 번째 []는 `DRULE_ATT_TYPE_CODE1`\n",
    "3. 빈도수"
   ]
  },
  {
   "cell_type": "code",
   "execution_count": 1,
   "id": "b5f6d655",
   "metadata": {
    "scrolled": true
   },
   "outputs": [
    {
     "data": {
      "text/html": [
       "<div>\n",
       "<style scoped>\n",
       "    .dataframe tbody tr th:only-of-type {\n",
       "        vertical-align: middle;\n",
       "    }\n",
       "\n",
       "    .dataframe tbody tr th {\n",
       "        vertical-align: top;\n",
       "    }\n",
       "\n",
       "    .dataframe thead th {\n",
       "        text-align: right;\n",
       "    }\n",
       "</style>\n",
       "<table border=\"1\" class=\"dataframe\">\n",
       "  <thead>\n",
       "    <tr style=\"text-align: right;\">\n",
       "      <th></th>\n",
       "      <th>TW_ATT_IP_SEARCH_DATA</th>\n",
       "      <th>TW_ATT_GEOLOCATION</th>\n",
       "      <th>TW_DMG_PORT</th>\n",
       "      <th>TW_PATTERN_STR</th>\n",
       "      <th>RISK_V2</th>\n",
       "      <th>TW_DETECT_CNT</th>\n",
       "      <th>SCEN_INFOS</th>\n",
       "      <th>TW_MALIG_FILE_NM</th>\n",
       "      <th>TW_MALIG_FILE_RESULT</th>\n",
       "      <th>TW_DMG_IP_SEARCH_DATA</th>\n",
       "      <th>...</th>\n",
       "      <th>INST_CODE</th>\n",
       "      <th>TW_DMG_CT_CODE</th>\n",
       "      <th>TW_MALIG_FILE_STATE</th>\n",
       "      <th>TW_MALIG_FILE_SIZE</th>\n",
       "      <th>DRULE_NM</th>\n",
       "      <th>TW_DMG_IP</th>\n",
       "      <th>TW_COLLECT_DT</th>\n",
       "      <th>TW_ATT_CT_CODE</th>\n",
       "      <th>TW_ATT_IP</th>\n",
       "      <th>DRULE_ATT_TYPE_CODE1</th>\n",
       "    </tr>\n",
       "  </thead>\n",
       "  <tbody>\n",
       "    <tr>\n",
       "      <th>0</th>\n",
       "      <td>{'ATT_DETAIL_ORG_NM': '충청북도지원센터', 'INST_HIGH_C...</td>\n",
       "      <td>37.751, -97.822</td>\n",
       "      <td>80</td>\n",
       "      <td>NaN</td>\n",
       "      <td>{'WEEKNESS_VAL_4': 0, 'WEEKNESS_VAL_5': 0, 'WE...</td>\n",
       "      <td>381</td>\n",
       "      <td>[{'POL_NM': '181228003_VI_wordpress.18122803#'...</td>\n",
       "      <td>NaN</td>\n",
       "      <td>NaN</td>\n",
       "      <td>[{'INST_NOTE': '등록 자산 외에 사용되는 서버 IP 대역', 'INST...</td>\n",
       "      <td>...</td>\n",
       "      <td>A000002137</td>\n",
       "      <td>KR</td>\n",
       "      <td>NaN</td>\n",
       "      <td>NaN</td>\n",
       "      <td>Attack-ForceForce-Test04-worp.19072803#</td>\n",
       "      <td>123.108.17.41</td>\n",
       "      <td>2020-05-16T23:19:19.000+0900</td>\n",
       "      <td>US</td>\n",
       "      <td>34.70.128.113</td>\n",
       "      <td>Attack</td>\n",
       "    </tr>\n",
       "    <tr>\n",
       "      <th>1</th>\n",
       "      <td>{'ATT_DETAIL_ORG_NM': '충청북도지원센터', 'INST_HIGH_C...</td>\n",
       "      <td>37.751, -97.822</td>\n",
       "      <td>80</td>\n",
       "      <td>NaN</td>\n",
       "      <td>{'WEEKNESS_VAL_4': 0, 'WEEKNESS_VAL_5': 0, 'WE...</td>\n",
       "      <td>381</td>\n",
       "      <td>[{'POL_NM': '181228003_VI_wordpress.18122803#'...</td>\n",
       "      <td>NaN</td>\n",
       "      <td>NaN</td>\n",
       "      <td>[{'INST_NOTE': '등록 자산 외에 사용되는 서버 IP 대역', 'INST...</td>\n",
       "      <td>...</td>\n",
       "      <td>A000002137</td>\n",
       "      <td>KR</td>\n",
       "      <td>NaN</td>\n",
       "      <td>NaN</td>\n",
       "      <td>Attack-ForceForce-Test04-worp.19072803#</td>\n",
       "      <td>123.108.17.41</td>\n",
       "      <td>2020-05-16T23:19:19.000+0900</td>\n",
       "      <td>US</td>\n",
       "      <td>34.70.128.113</td>\n",
       "      <td>Attack</td>\n",
       "    </tr>\n",
       "    <tr>\n",
       "      <th>2</th>\n",
       "      <td>{'ATT_DETAIL_ORG_NM': '충청북도지원센터', 'INST_HIGH_C...</td>\n",
       "      <td>37.751, -97.822</td>\n",
       "      <td>80</td>\n",
       "      <td>NaN</td>\n",
       "      <td>{'WEEKNESS_VAL_4': 0, 'WEEKNESS_VAL_5': 0, 'WE...</td>\n",
       "      <td>381</td>\n",
       "      <td>[{'POL_NM': '181228003_VI_wordpress.18122803#'...</td>\n",
       "      <td>NaN</td>\n",
       "      <td>NaN</td>\n",
       "      <td>[{'INST_NOTE': '등록 자산 외에 사용되는 서버 IP 대역', 'INST...</td>\n",
       "      <td>...</td>\n",
       "      <td>A000002137</td>\n",
       "      <td>KR</td>\n",
       "      <td>NaN</td>\n",
       "      <td>NaN</td>\n",
       "      <td>Attack-ForceForce-Test04-worp.19072803#</td>\n",
       "      <td>123.108.17.41</td>\n",
       "      <td>2020-05-16T23:19:19.000+0900</td>\n",
       "      <td>US</td>\n",
       "      <td>34.70.128.113</td>\n",
       "      <td>Attack</td>\n",
       "    </tr>\n",
       "    <tr>\n",
       "      <th>3</th>\n",
       "      <td>{'ATT_DETAIL_ORG_NM': '충청북도지원센터', 'INST_HIGH_C...</td>\n",
       "      <td>37.751, -97.822</td>\n",
       "      <td>80</td>\n",
       "      <td>NaN</td>\n",
       "      <td>{'WEEKNESS_VAL_4': 0, 'WEEKNESS_VAL_5': 0, 'WE...</td>\n",
       "      <td>381</td>\n",
       "      <td>[{'POL_NM': '181228003_VI_wordpress.18122803#'...</td>\n",
       "      <td>NaN</td>\n",
       "      <td>NaN</td>\n",
       "      <td>[{'INST_NOTE': '등록 자산 외에 사용되는 서버 IP 대역', 'INST...</td>\n",
       "      <td>...</td>\n",
       "      <td>A000002137</td>\n",
       "      <td>KR</td>\n",
       "      <td>NaN</td>\n",
       "      <td>NaN</td>\n",
       "      <td>Attack-ForceForce-Test04-worp.19072803#</td>\n",
       "      <td>123.108.17.41</td>\n",
       "      <td>2020-05-16T23:19:19.000+0900</td>\n",
       "      <td>US</td>\n",
       "      <td>34.70.128.113</td>\n",
       "      <td>Attack</td>\n",
       "    </tr>\n",
       "    <tr>\n",
       "      <th>4</th>\n",
       "      <td>{'ATT_DETAIL_ORG_NM': '충청북도지원센터', 'INST_HIGH_C...</td>\n",
       "      <td>37.751, -97.822</td>\n",
       "      <td>80</td>\n",
       "      <td>NaN</td>\n",
       "      <td>{'WEEKNESS_VAL_4': 0, 'WEEKNESS_VAL_5': 0, 'WE...</td>\n",
       "      <td>381</td>\n",
       "      <td>[{'POL_NM': '181228003_VI_wordpress.18122803#'...</td>\n",
       "      <td>NaN</td>\n",
       "      <td>NaN</td>\n",
       "      <td>[{'INST_NOTE': '등록 자산 외에 사용되는 서버 IP 대역', 'INST...</td>\n",
       "      <td>...</td>\n",
       "      <td>A000002137</td>\n",
       "      <td>KR</td>\n",
       "      <td>NaN</td>\n",
       "      <td>NaN</td>\n",
       "      <td>Attack-ForceForce-Test04-worp.19072803#</td>\n",
       "      <td>123.108.17.41</td>\n",
       "      <td>2020-05-16T23:19:19.000+0900</td>\n",
       "      <td>US</td>\n",
       "      <td>34.70.128.113</td>\n",
       "      <td>Attack</td>\n",
       "    </tr>\n",
       "  </tbody>\n",
       "</table>\n",
       "<p>5 rows × 22 columns</p>\n",
       "</div>"
      ],
      "text/plain": [
       "                               TW_ATT_IP_SEARCH_DATA TW_ATT_GEOLOCATION  \\\n",
       "0  {'ATT_DETAIL_ORG_NM': '충청북도지원센터', 'INST_HIGH_C...    37.751, -97.822   \n",
       "1  {'ATT_DETAIL_ORG_NM': '충청북도지원센터', 'INST_HIGH_C...    37.751, -97.822   \n",
       "2  {'ATT_DETAIL_ORG_NM': '충청북도지원센터', 'INST_HIGH_C...    37.751, -97.822   \n",
       "3  {'ATT_DETAIL_ORG_NM': '충청북도지원센터', 'INST_HIGH_C...    37.751, -97.822   \n",
       "4  {'ATT_DETAIL_ORG_NM': '충청북도지원센터', 'INST_HIGH_C...    37.751, -97.822   \n",
       "\n",
       "   TW_DMG_PORT  TW_PATTERN_STR  \\\n",
       "0           80             NaN   \n",
       "1           80             NaN   \n",
       "2           80             NaN   \n",
       "3           80             NaN   \n",
       "4           80             NaN   \n",
       "\n",
       "                                             RISK_V2  TW_DETECT_CNT  \\\n",
       "0  {'WEEKNESS_VAL_4': 0, 'WEEKNESS_VAL_5': 0, 'WE...            381   \n",
       "1  {'WEEKNESS_VAL_4': 0, 'WEEKNESS_VAL_5': 0, 'WE...            381   \n",
       "2  {'WEEKNESS_VAL_4': 0, 'WEEKNESS_VAL_5': 0, 'WE...            381   \n",
       "3  {'WEEKNESS_VAL_4': 0, 'WEEKNESS_VAL_5': 0, 'WE...            381   \n",
       "4  {'WEEKNESS_VAL_4': 0, 'WEEKNESS_VAL_5': 0, 'WE...            381   \n",
       "\n",
       "                                          SCEN_INFOS  TW_MALIG_FILE_NM  \\\n",
       "0  [{'POL_NM': '181228003_VI_wordpress.18122803#'...               NaN   \n",
       "1  [{'POL_NM': '181228003_VI_wordpress.18122803#'...               NaN   \n",
       "2  [{'POL_NM': '181228003_VI_wordpress.18122803#'...               NaN   \n",
       "3  [{'POL_NM': '181228003_VI_wordpress.18122803#'...               NaN   \n",
       "4  [{'POL_NM': '181228003_VI_wordpress.18122803#'...               NaN   \n",
       "\n",
       "   TW_MALIG_FILE_RESULT                              TW_DMG_IP_SEARCH_DATA  \\\n",
       "0                   NaN  [{'INST_NOTE': '등록 자산 외에 사용되는 서버 IP 대역', 'INST...   \n",
       "1                   NaN  [{'INST_NOTE': '등록 자산 외에 사용되는 서버 IP 대역', 'INST...   \n",
       "2                   NaN  [{'INST_NOTE': '등록 자산 외에 사용되는 서버 IP 대역', 'INST...   \n",
       "3                   NaN  [{'INST_NOTE': '등록 자산 외에 사용되는 서버 IP 대역', 'INST...   \n",
       "4                   NaN  [{'INST_NOTE': '등록 자산 외에 사용되는 서버 IP 대역', 'INST...   \n",
       "\n",
       "   ...   INST_CODE  TW_DMG_CT_CODE TW_MALIG_FILE_STATE TW_MALIG_FILE_SIZE  \\\n",
       "0  ...  A000002137              KR                 NaN                NaN   \n",
       "1  ...  A000002137              KR                 NaN                NaN   \n",
       "2  ...  A000002137              KR                 NaN                NaN   \n",
       "3  ...  A000002137              KR                 NaN                NaN   \n",
       "4  ...  A000002137              KR                 NaN                NaN   \n",
       "\n",
       "                                  DRULE_NM      TW_DMG_IP  \\\n",
       "0  Attack-ForceForce-Test04-worp.19072803#  123.108.17.41   \n",
       "1  Attack-ForceForce-Test04-worp.19072803#  123.108.17.41   \n",
       "2  Attack-ForceForce-Test04-worp.19072803#  123.108.17.41   \n",
       "3  Attack-ForceForce-Test04-worp.19072803#  123.108.17.41   \n",
       "4  Attack-ForceForce-Test04-worp.19072803#  123.108.17.41   \n",
       "\n",
       "                  TW_COLLECT_DT TW_ATT_CT_CODE      TW_ATT_IP  \\\n",
       "0  2020-05-16T23:19:19.000+0900             US  34.70.128.113   \n",
       "1  2020-05-16T23:19:19.000+0900             US  34.70.128.113   \n",
       "2  2020-05-16T23:19:19.000+0900             US  34.70.128.113   \n",
       "3  2020-05-16T23:19:19.000+0900             US  34.70.128.113   \n",
       "4  2020-05-16T23:19:19.000+0900             US  34.70.128.113   \n",
       "\n",
       "  DRULE_ATT_TYPE_CODE1  \n",
       "0               Attack  \n",
       "1               Attack  \n",
       "2               Attack  \n",
       "3               Attack  \n",
       "4               Attack  \n",
       "\n",
       "[5 rows x 22 columns]"
      ]
     },
     "execution_count": 1,
     "metadata": {},
     "output_type": "execute_result"
    }
   ],
   "source": [
    "# 원하는 파일 불러오기\n",
    "import pandas as pd\n",
    "df = pd.read_csv(\"./data/ts_data_accident-2020_sample.csv\")\n",
    "df.head()"
   ]
  },
  {
   "cell_type": "code",
   "execution_count": 2,
   "id": "6388451f",
   "metadata": {
    "scrolled": true
   },
   "outputs": [],
   "source": [
    "#필요한 라이브러리 불러오기\n",
    "import numpy as np\n",
    "from pandas import Series\n",
    "import json\n",
    "from pandas import json_normalize\n",
    "import time"
   ]
  },
  {
   "cell_type": "markdown",
   "id": "f83960f9",
   "metadata": {},
   "source": [
    "### 데이터 추출하기 : INST_NM, ASSETS_VAL, INTENT_VAL"
   ]
  },
  {
   "cell_type": "code",
   "execution_count": 3,
   "id": "a75aaf76",
   "metadata": {},
   "outputs": [
    {
     "name": "stdout",
     "output_type": "stream",
     "text": [
      "\n"
     ]
    }
   ],
   "source": [
    "'''\n",
    "#RISK_V2에서 ASSETS_VAL 추출\n",
    "df_ASSET = df.loc[:,['RISK_V2']] #전체 dataframe에서 'RISK_V2'col만 추출하여 만든 dataframe\n",
    "df_temp = pd.DataFrame() #df_risk의 i번째 row의 값을 임시로 저장할 df\n",
    "\n",
    "start = time.time()  # 시작 시간 저장\n",
    "\n",
    "for i in range(len(df)): #len(df) : 26043\n",
    "    js = df_ASSET['RISK_V2'][i] #type(js) : str\n",
    "    js = js.replace(\"'\", \"\\\"\") # 홑따옴표->겹따옴표(JSON 표준)\n",
    "    js_string = json.loads(js) #JSON 문자열을 Python 객체로 변환\n",
    "    json_df = json_normalize(js_string) #JSON 객체를json_normalize()에 전달하면 필요한 데이터가 포함 된 Pandas DataFrame이 반환\n",
    "    df_temp = pd.concat([df_temp,json_df],ignore_index=True) \n",
    "    #방금 구한 json_df를 기존df에 추가(json_df의 index는 모두 0이므로 ignore_index로 새롭게 index 설정 필요)\n",
    "    \n",
    "print(\"time :\", time.time() - start)  # 현재시각 - 시작시간 = 실행 시간\n",
    "\n",
    "# 시간이 오래 걸려서 매번 실행할 때 마다 처리하는건 불편. 따로 파일 만들어 저장\n",
    "\n",
    "ASSETS_VAL= df_temp.copy()[['ASSETS_VAL_1','ASSETS_VAL_2','ASSETS_VAL_3','ASSETS_VAL_4','ASSETS_VAL_5'\n",
    "                            ,'ASSETS_VAL_6','ASSETS_VAL_7','ASSETS_VAL_8','ASSETS_VAL_9','ASSETS_VAL_10','ASSETS_VAL_11',\n",
    "                            'ASSETS_VAL_12','ASSETS_VAL_13','ASSETS_VAL_14','ASSETS_VAL_15','ASSETS_VAL_16','ASSETS_VAL_17',\n",
    "                            'ASSETS_VAL_18','ASSETS_VAL_19','ASSETS_VAL_20','ASSETS_VAL_21','ASSETS_VAL_22']]\n",
    "ASSETS_VAL.to_csv(\"./data/ts_data_accident-2020_sample_ASSETS_VAL.csv\")\n",
    "\n",
    "# 마찬가지로 INTENT_VAL 과 INST_NM 추출 및 저장\n",
    "'''\n",
    "print() #주석 markdown 출력 방지용"
   ]
  },
  {
   "cell_type": "markdown",
   "id": "ed52298f",
   "metadata": {},
   "source": [
    "### 필요한 데이터로 데이터프레임 만들기 : TW_ATT_IP, TW_ATT_PORT, TW_DMG_PORT, TW_DMG_IP, DRULE_ATT_TYPE_CODE1, TW_ATT_CT_CODE, INTENT_VAL, ASSETS_VAL, INST_NM"
   ]
  },
  {
   "cell_type": "code",
   "execution_count": 4,
   "id": "b14fce2f",
   "metadata": {},
   "outputs": [],
   "source": [
    "#1.기관\n",
    "INST_NM = pd.read_csv(\"./data/ts_data_accident-2020_sample_INST_NM.csv\")\n",
    "INST_NM.drop(['Unnamed: 0'], axis = 1, inplace = True)\n",
    "#2.위협공격ip\n",
    "ATT_IP = df.copy()['TW_ATT_IP']\n",
    "#3.위협공격port\n",
    "ATT_PORT = df.copy()['TW_ATT_PORT']\n",
    "#4.위협피해port\n",
    "DMG_PORT = df.copy()['TW_DMG_PORT']\n",
    "#5.위협피해ip\n",
    "DMG_IP = df.copy()['TW_DMG_IP']\n",
    "#6.공격\n",
    "DRULE_ATT_TYPE_CODE1=df.copy()['DRULE_ATT_TYPE_CODE1']\n",
    "#7.공격국가\n",
    "TW_ATT_CT_CODE = df.copy()['TW_ATT_CT_CODE']\n",
    "#8.의도\n",
    "INTENT_VAL=pd.read_csv(\"./data/ts_data_accident-2020_sample_INTENT_VAL.csv\")\n",
    "INTENT_VAL.drop(['Unnamed: 0'], axis = 1, inplace = True)\n",
    "#9.자산\n",
    "ASSETS_VAL_temp = pd.read_csv(\"./data/ts_data_accident-2020_sample_ASSETS_VAL.csv\")\n",
    "ASSETS_VAL_temp.drop(['Unnamed: 0'], axis = 1, inplace = True)"
   ]
  },
  {
   "cell_type": "code",
   "execution_count": 5,
   "id": "6db2fb5e",
   "metadata": {},
   "outputs": [
    {
     "data": {
      "text/html": [
       "<div>\n",
       "<style scoped>\n",
       "    .dataframe tbody tr th:only-of-type {\n",
       "        vertical-align: middle;\n",
       "    }\n",
       "\n",
       "    .dataframe tbody tr th {\n",
       "        vertical-align: top;\n",
       "    }\n",
       "\n",
       "    .dataframe thead th {\n",
       "        text-align: right;\n",
       "    }\n",
       "</style>\n",
       "<table border=\"1\" class=\"dataframe\">\n",
       "  <thead>\n",
       "    <tr style=\"text-align: right;\">\n",
       "      <th></th>\n",
       "      <th>INTENT_VAL</th>\n",
       "    </tr>\n",
       "  </thead>\n",
       "  <tbody>\n",
       "    <tr>\n",
       "      <th>0</th>\n",
       "      <td>INTENT_VAL_5: 20</td>\n",
       "    </tr>\n",
       "    <tr>\n",
       "      <th>1</th>\n",
       "      <td>INTENT_VAL_5: 20</td>\n",
       "    </tr>\n",
       "    <tr>\n",
       "      <th>2</th>\n",
       "      <td>INTENT_VAL_5: 20</td>\n",
       "    </tr>\n",
       "    <tr>\n",
       "      <th>3</th>\n",
       "      <td>INTENT_VAL_5: 20</td>\n",
       "    </tr>\n",
       "    <tr>\n",
       "      <th>4</th>\n",
       "      <td>INTENT_VAL_5: 20</td>\n",
       "    </tr>\n",
       "  </tbody>\n",
       "</table>\n",
       "</div>"
      ],
      "text/plain": [
       "         INTENT_VAL\n",
       "0  INTENT_VAL_5: 20\n",
       "1  INTENT_VAL_5: 20\n",
       "2  INTENT_VAL_5: 20\n",
       "3  INTENT_VAL_5: 20\n",
       "4  INTENT_VAL_5: 20"
      ]
     },
     "execution_count": 5,
     "metadata": {},
     "output_type": "execute_result"
    }
   ],
   "source": [
    "# INTENT_VAL 수정\n",
    "# 보는 사람이 이해하기 쉽게 -> 0인 값은 지우되, 남아있는 값이 무엇의 값인지 알아볼 수 있도록 가공.\n",
    "cols = INTENT_VAL.columns.tolist()\n",
    "INTENT_list=[]\n",
    "for i in range(0,len(INTENT_VAL)):\n",
    "    temp_str=[]\n",
    "    for j in range(len(cols)):\n",
    "        temp_val = INTENT_VAL.loc[i][j]\n",
    "        temp = str(cols[j])+': '+str(temp_val)\n",
    "        if(temp_val!=0):\n",
    "            temp_str.append(temp)\n",
    "    INTENT_list.append(temp_str)\n",
    "INTENT = pd.DataFrame(INTENT_list)\n",
    "INTENT = INTENT.rename(columns={INTENT.columns[0]:'INTENT_VAL'}, inplace=False)\n",
    "INTENT.head()"
   ]
  },
  {
   "cell_type": "code",
   "execution_count": 6,
   "id": "62c92028",
   "metadata": {},
   "outputs": [],
   "source": [
    "# ASSETS_VAL 수정\n",
    "cols = ASSETS_VAL_temp.columns.tolist()\n",
    "ASSETS_list=[]\n",
    "for i in range(0,len(ASSETS_VAL_temp)):\n",
    "    temp_str=[]\n",
    "    for j in range(len(cols)):\n",
    "        temp_val = ASSETS_VAL_temp.loc[i][j]\n",
    "        temp = str(cols[j])+': '+str(temp_val)\n",
    "        if(temp_val!=0):\n",
    "            temp_str.append(temp)\n",
    "    ASSETS_list.append(temp_str)\n",
    "ASSETS = pd.DataFrame(ASSETS_list)\n",
    "#ASSETS.head()"
   ]
  },
  {
   "cell_type": "code",
   "execution_count": null,
   "id": "d9b38232",
   "metadata": {},
   "outputs": [],
   "source": [
    "'''\n",
    "# 의도 합치기\n",
    "# 값이 0인 INTENT_VAL 값을 지우다보니 INTENT_VAL_5만 살아남아 INTENT를 합칠 이유가 사라졌습니다...\n",
    "cols=INTENT_VAL.columns\n",
    "INTENT_combined = pd.DataFrame()\n",
    "INTENT_combined['INTENT_VAL'] = INTENT_VAL[cols].apply(lambda row: ', '.join(row.values.astype(str)), axis=1)\n",
    "INTENT_combined.head()\n",
    "'''"
   ]
  },
  {
   "cell_type": "code",
   "execution_count": 8,
   "id": "7750fa25",
   "metadata": {},
   "outputs": [
    {
     "data": {
      "text/html": [
       "<div>\n",
       "<style scoped>\n",
       "    .dataframe tbody tr th:only-of-type {\n",
       "        vertical-align: middle;\n",
       "    }\n",
       "\n",
       "    .dataframe tbody tr th {\n",
       "        vertical-align: top;\n",
       "    }\n",
       "\n",
       "    .dataframe thead th {\n",
       "        text-align: right;\n",
       "    }\n",
       "</style>\n",
       "<table border=\"1\" class=\"dataframe\">\n",
       "  <thead>\n",
       "    <tr style=\"text-align: right;\">\n",
       "      <th></th>\n",
       "      <th>ASSETS_VAL</th>\n",
       "    </tr>\n",
       "  </thead>\n",
       "  <tbody>\n",
       "    <tr>\n",
       "      <th>0</th>\n",
       "      <td>ASSETS_VAL_1: 60, ASSETS_VAL_11: 40</td>\n",
       "    </tr>\n",
       "    <tr>\n",
       "      <th>1</th>\n",
       "      <td>ASSETS_VAL_1: 60, ASSETS_VAL_11: 40</td>\n",
       "    </tr>\n",
       "    <tr>\n",
       "      <th>2</th>\n",
       "      <td>ASSETS_VAL_1: 60, ASSETS_VAL_11: 40</td>\n",
       "    </tr>\n",
       "    <tr>\n",
       "      <th>3</th>\n",
       "      <td>ASSETS_VAL_1: 60, ASSETS_VAL_11: 40</td>\n",
       "    </tr>\n",
       "    <tr>\n",
       "      <th>4</th>\n",
       "      <td>ASSETS_VAL_1: 60, ASSETS_VAL_11: 40</td>\n",
       "    </tr>\n",
       "  </tbody>\n",
       "</table>\n",
       "</div>"
      ],
      "text/plain": [
       "                            ASSETS_VAL\n",
       "0  ASSETS_VAL_1: 60, ASSETS_VAL_11: 40\n",
       "1  ASSETS_VAL_1: 60, ASSETS_VAL_11: 40\n",
       "2  ASSETS_VAL_1: 60, ASSETS_VAL_11: 40\n",
       "3  ASSETS_VAL_1: 60, ASSETS_VAL_11: 40\n",
       "4  ASSETS_VAL_1: 60, ASSETS_VAL_11: 40"
      ]
     },
     "execution_count": 8,
     "metadata": {},
     "output_type": "execute_result"
    }
   ],
   "source": [
    "# 자산 합치기\n",
    "cols = ASSETS.columns.tolist()\n",
    "ASSETS_combined = pd.DataFrame()\n",
    "ASSETS_combined['ASSETS_VAL'] = ASSETS[cols].apply(lambda row: ', '.join(row.values.astype(str)), axis=1)\n",
    "ASSETS_combined.head()"
   ]
  },
  {
   "cell_type": "markdown",
   "id": "88408dae",
   "metadata": {},
   "source": [
    "### PrefixSpan 에 필요한 라이브러리 설치 : pypi, prefixspan"
   ]
  },
  {
   "cell_type": "code",
   "execution_count": null,
   "id": "bea48cb5",
   "metadata": {},
   "outputs": [],
   "source": [
    "!pip install pypi\n",
    "!pip install prefixspan"
   ]
  },
  {
   "cell_type": "markdown",
   "id": "015ccafa",
   "metadata": {},
   "source": [
    "### 필요한 라이브러리 불러오기 : PrefixSpan"
   ]
  },
  {
   "cell_type": "code",
   "execution_count": 10,
   "id": "838e2621",
   "metadata": {},
   "outputs": [],
   "source": [
    "from prefixspan import PrefixSpan"
   ]
  },
  {
   "cell_type": "markdown",
   "id": "2e70d0c9",
   "metadata": {},
   "source": [
    "### PrefixSpan에 쓸 수 있게 list로 데이터 처리"
   ]
  },
  {
   "cell_type": "code",
   "execution_count": 11,
   "id": "21c49c87",
   "metadata": {},
   "outputs": [],
   "source": [
    "data = []\n",
    "for i in range(0,len(ASSETS_combined)):\n",
    "    temp_list = []\n",
    "    temp_asset=[]\n",
    "    temp_asset=ASSETS_combined['ASSETS_VAL'].loc[i]\n",
    "    temp_intent=[]\n",
    "    temp_intent=INTENT['INTENT_VAL'].loc[i]\n",
    "    temp_name = []\n",
    "    temp_name = INST_NM['ATT_INST_NM'].loc[i]\n",
    "    temp_list.append([temp_asset, temp_intent, temp_name, ATT_IP[i], ATT_PORT[i], \n",
    "                      DMG_PORT[i], DMG_IP[i], DRULE_ATT_TYPE_CODE1[i], TW_ATT_CT_CODE[i]])\n",
    "    data.extend(temp_list)\n"
   ]
  },
  {
   "cell_type": "code",
   "execution_count": 12,
   "id": "11580f3f",
   "metadata": {},
   "outputs": [],
   "source": [
    "ps = PrefixSpan(data)"
   ]
  },
  {
   "cell_type": "markdown",
   "id": "0ec1cbff",
   "metadata": {},
   "source": [
    "### 결과 확인"
   ]
  },
  {
   "cell_type": "code",
   "execution_count": 13,
   "id": "08999c5f",
   "metadata": {},
   "outputs": [
    {
     "name": "stdout",
     "output_type": "stream",
     "text": [
      "[(26770, ['ASSETS_VAL_1: 60, ASSETS_VAL_11: 40']), (26770, ['ASSETS_VAL_1: 60, ASSETS_VAL_11: 40', 'INTENT_VAL_5: 20']), (26770, ['ASSETS_VAL_1: 60, ASSETS_VAL_11: 40', 'INTENT_VAL_5: 20', '충청북도지원센터']), (26770, ['ASSETS_VAL_1: 60, ASSETS_VAL_11: 40', 'INTENT_VAL_5: 20', '충청북도지원센터', '34.70.128.113']), (26770, ['ASSETS_VAL_1: 60, ASSETS_VAL_11: 40', 'INTENT_VAL_5: 20', '충청북도지원센터', '34.70.128.113', 63026]), (26770, ['ASSETS_VAL_1: 60, ASSETS_VAL_11: 40', 'INTENT_VAL_5: 20', '충청북도지원센터', '34.70.128.113', 63026, 80]), (26770, ['ASSETS_VAL_1: 60, ASSETS_VAL_11: 40', 'INTENT_VAL_5: 20', '충청북도지원센터', '34.70.128.113', 63026, 80, '123.108.17.41']), (26770, ['ASSETS_VAL_1: 60, ASSETS_VAL_11: 40', 'INTENT_VAL_5: 20', '충청북도지원센터', '34.70.128.113', 63026, 80, '123.108.17.41', 'Attack']), (26770, ['ASSETS_VAL_1: 60, ASSETS_VAL_11: 40', 'INTENT_VAL_5: 20', '충청북도지원센터', '34.70.128.113', 63026, 80, '123.108.17.41', 'Attack', 'US']), (26770, ['ASSETS_VAL_1: 60, ASSETS_VAL_11: 40', 'INTENT_VAL_5: 20', '충청북도지원센터', '34.70.128.113', 63026, 80, '123.108.17.41', 'US']), (26770, ['ASSETS_VAL_1: 60, ASSETS_VAL_11: 40', 'INTENT_VAL_5: 20', '충청북도지원센터', '34.70.128.113', 63026, 80, 'Attack']), (26770, ['ASSETS_VAL_1: 60, ASSETS_VAL_11: 40', 'INTENT_VAL_5: 20', '충청북도지원센터', '34.70.128.113', 63026, 80, 'Attack', 'US']), (26770, ['ASSETS_VAL_1: 60, ASSETS_VAL_11: 40', 'INTENT_VAL_5: 20', '충청북도지원센터', '34.70.128.113', 63026, 80, 'US']), (26770, ['ASSETS_VAL_1: 60, ASSETS_VAL_11: 40', 'INTENT_VAL_5: 20', '충청북도지원센터', '34.70.128.113', 63026, '123.108.17.41']), (26770, ['ASSETS_VAL_1: 60, ASSETS_VAL_11: 40', 'INTENT_VAL_5: 20', '충청북도지원센터', '34.70.128.113', 63026, '123.108.17.41', 'Attack']), (26770, ['ASSETS_VAL_1: 60, ASSETS_VAL_11: 40', 'INTENT_VAL_5: 20', '충청북도지원센터', '34.70.128.113', 63026, '123.108.17.41', 'Attack', 'US']), (26770, ['ASSETS_VAL_1: 60, ASSETS_VAL_11: 40', 'INTENT_VAL_5: 20', '충청북도지원센터', '34.70.128.113', 63026, '123.108.17.41', 'US']), (26770, ['ASSETS_VAL_1: 60, ASSETS_VAL_11: 40', 'INTENT_VAL_5: 20', '충청북도지원센터', '34.70.128.113', 63026, 'Attack']), (26770, ['ASSETS_VAL_1: 60, ASSETS_VAL_11: 40', 'INTENT_VAL_5: 20', '충청북도지원센터', '34.70.128.113', 63026, 'Attack', 'US']), (26770, ['ASSETS_VAL_1: 60, ASSETS_VAL_11: 40', 'INTENT_VAL_5: 20', '충청북도지원센터', '34.70.128.113', 63026, 'US']), (26770, ['ASSETS_VAL_1: 60, ASSETS_VAL_11: 40', 'INTENT_VAL_5: 20', '충청북도지원센터', '34.70.128.113', 80]), (26770, ['ASSETS_VAL_1: 60, ASSETS_VAL_11: 40', 'INTENT_VAL_5: 20', '충청북도지원센터', '34.70.128.113', 80, '123.108.17.41']), (26770, ['ASSETS_VAL_1: 60, ASSETS_VAL_11: 40', 'INTENT_VAL_5: 20', '충청북도지원센터', '34.70.128.113', 80, '123.108.17.41', 'Attack']), (26770, ['ASSETS_VAL_1: 60, ASSETS_VAL_11: 40', 'INTENT_VAL_5: 20', '충청북도지원센터', '34.70.128.113', 80, '123.108.17.41', 'Attack', 'US']), (26770, ['ASSETS_VAL_1: 60, ASSETS_VAL_11: 40', 'INTENT_VAL_5: 20', '충청북도지원센터', '34.70.128.113', 80, '123.108.17.41', 'US']), (26770, ['ASSETS_VAL_1: 60, ASSETS_VAL_11: 40', 'INTENT_VAL_5: 20', '충청북도지원센터', '34.70.128.113', 80, 'Attack']), (26770, ['ASSETS_VAL_1: 60, ASSETS_VAL_11: 40', 'INTENT_VAL_5: 20', '충청북도지원센터', '34.70.128.113', 80, 'Attack', 'US']), (26770, ['ASSETS_VAL_1: 60, ASSETS_VAL_11: 40', 'INTENT_VAL_5: 20', '충청북도지원센터', '34.70.128.113', 80, 'US']), (26770, ['ASSETS_VAL_1: 60, ASSETS_VAL_11: 40', 'INTENT_VAL_5: 20', '충청북도지원센터', '34.70.128.113', '123.108.17.41']), (26770, ['ASSETS_VAL_1: 60, ASSETS_VAL_11: 40', 'INTENT_VAL_5: 20', '충청북도지원센터', '34.70.128.113', '123.108.17.41', 'Attack']), (26770, ['ASSETS_VAL_1: 60, ASSETS_VAL_11: 40', 'INTENT_VAL_5: 20', '충청북도지원센터', '34.70.128.113', '123.108.17.41', 'Attack', 'US']), (26770, ['ASSETS_VAL_1: 60, ASSETS_VAL_11: 40', 'INTENT_VAL_5: 20', '충청북도지원센터', '34.70.128.113', '123.108.17.41', 'US']), (26770, ['ASSETS_VAL_1: 60, ASSETS_VAL_11: 40', 'INTENT_VAL_5: 20', '충청북도지원센터', '34.70.128.113', 'Attack']), (26770, ['ASSETS_VAL_1: 60, ASSETS_VAL_11: 40', 'INTENT_VAL_5: 20', '충청북도지원센터', '34.70.128.113', 'Attack', 'US']), (26770, ['ASSETS_VAL_1: 60, ASSETS_VAL_11: 40', 'INTENT_VAL_5: 20', '충청북도지원센터', '34.70.128.113', 'US']), (26770, ['ASSETS_VAL_1: 60, ASSETS_VAL_11: 40', 'INTENT_VAL_5: 20', '충청북도지원센터', 63026]), (26770, ['ASSETS_VAL_1: 60, ASSETS_VAL_11: 40', 'INTENT_VAL_5: 20', '충청북도지원센터', 63026, 80]), (26770, ['ASSETS_VAL_1: 60, ASSETS_VAL_11: 40', 'INTENT_VAL_5: 20', '충청북도지원센터', 63026, 80, '123.108.17.41']), (26770, ['ASSETS_VAL_1: 60, ASSETS_VAL_11: 40', 'INTENT_VAL_5: 20', '충청북도지원센터', 63026, 80, '123.108.17.41', 'Attack']), (26770, ['ASSETS_VAL_1: 60, ASSETS_VAL_11: 40', 'INTENT_VAL_5: 20', '충청북도지원센터', 63026, 80, '123.108.17.41', 'Attack', 'US']), (26770, ['ASSETS_VAL_1: 60, ASSETS_VAL_11: 40', 'INTENT_VAL_5: 20', '충청북도지원센터', 63026, 80, '123.108.17.41', 'US']), (26770, ['ASSETS_VAL_1: 60, ASSETS_VAL_11: 40', 'INTENT_VAL_5: 20', '충청북도지원센터', 63026, 80, 'Attack']), (26770, ['ASSETS_VAL_1: 60, ASSETS_VAL_11: 40', 'INTENT_VAL_5: 20', '충청북도지원센터', 63026, 80, 'Attack', 'US']), (26770, ['ASSETS_VAL_1: 60, ASSETS_VAL_11: 40', 'INTENT_VAL_5: 20', '충청북도지원센터', 63026, 80, 'US']), (26770, ['ASSETS_VAL_1: 60, ASSETS_VAL_11: 40', 'INTENT_VAL_5: 20', '충청북도지원센터', 63026, '123.108.17.41']), (26770, ['ASSETS_VAL_1: 60, ASSETS_VAL_11: 40', 'INTENT_VAL_5: 20', '충청북도지원센터', 63026, '123.108.17.41', 'Attack']), (26770, ['ASSETS_VAL_1: 60, ASSETS_VAL_11: 40', 'INTENT_VAL_5: 20', '충청북도지원센터', 63026, '123.108.17.41', 'Attack', 'US']), (26770, ['ASSETS_VAL_1: 60, ASSETS_VAL_11: 40', 'INTENT_VAL_5: 20', '충청북도지원센터', 63026, '123.108.17.41', 'US']), (26770, ['ASSETS_VAL_1: 60, ASSETS_VAL_11: 40', 'INTENT_VAL_5: 20', '충청북도지원센터', 63026, 'Attack']), (26770, ['ASSETS_VAL_1: 60, ASSETS_VAL_11: 40', 'INTENT_VAL_5: 20', '충청북도지원센터', 63026, 'Attack', 'US']), (26770, ['ASSETS_VAL_1: 60, ASSETS_VAL_11: 40', 'INTENT_VAL_5: 20', '충청북도지원센터', 63026, 'US']), (26770, ['ASSETS_VAL_1: 60, ASSETS_VAL_11: 40', 'INTENT_VAL_5: 20', '충청북도지원센터', 80]), (26770, ['ASSETS_VAL_1: 60, ASSETS_VAL_11: 40', 'INTENT_VAL_5: 20', '충청북도지원센터', 80, '123.108.17.41']), (26770, ['ASSETS_VAL_1: 60, ASSETS_VAL_11: 40', 'INTENT_VAL_5: 20', '충청북도지원센터', 80, '123.108.17.41', 'Attack']), (26770, ['ASSETS_VAL_1: 60, ASSETS_VAL_11: 40', 'INTENT_VAL_5: 20', '충청북도지원센터', 80, '123.108.17.41', 'Attack', 'US']), (26770, ['ASSETS_VAL_1: 60, ASSETS_VAL_11: 40', 'INTENT_VAL_5: 20', '충청북도지원센터', 80, '123.108.17.41', 'US']), (26770, ['ASSETS_VAL_1: 60, ASSETS_VAL_11: 40', 'INTENT_VAL_5: 20', '충청북도지원센터', 80, 'Attack']), (26770, ['ASSETS_VAL_1: 60, ASSETS_VAL_11: 40', 'INTENT_VAL_5: 20', '충청북도지원센터', 80, 'Attack', 'US']), (26770, ['ASSETS_VAL_1: 60, ASSETS_VAL_11: 40', 'INTENT_VAL_5: 20', '충청북도지원센터', 80, 'US']), (26770, ['ASSETS_VAL_1: 60, ASSETS_VAL_11: 40', 'INTENT_VAL_5: 20', '충청북도지원센터', '123.108.17.41']), (26770, ['ASSETS_VAL_1: 60, ASSETS_VAL_11: 40', 'INTENT_VAL_5: 20', '충청북도지원센터', '123.108.17.41', 'Attack']), (26770, ['ASSETS_VAL_1: 60, ASSETS_VAL_11: 40', 'INTENT_VAL_5: 20', '충청북도지원센터', '123.108.17.41', 'Attack', 'US']), (26770, ['ASSETS_VAL_1: 60, ASSETS_VAL_11: 40', 'INTENT_VAL_5: 20', '충청북도지원센터', '123.108.17.41', 'US']), (26770, ['ASSETS_VAL_1: 60, ASSETS_VAL_11: 40', 'INTENT_VAL_5: 20', '충청북도지원센터', 'Attack']), (26770, ['ASSETS_VAL_1: 60, ASSETS_VAL_11: 40', 'INTENT_VAL_5: 20', '충청북도지원센터', 'Attack', 'US']), (26770, ['ASSETS_VAL_1: 60, ASSETS_VAL_11: 40', 'INTENT_VAL_5: 20', '충청북도지원센터', 'US']), (26770, ['ASSETS_VAL_1: 60, ASSETS_VAL_11: 40', 'INTENT_VAL_5: 20', '34.70.128.113']), (26770, ['ASSETS_VAL_1: 60, ASSETS_VAL_11: 40', 'INTENT_VAL_5: 20', '34.70.128.113', 63026]), (26770, ['ASSETS_VAL_1: 60, ASSETS_VAL_11: 40', 'INTENT_VAL_5: 20', '34.70.128.113', 63026, 80]), (26770, ['ASSETS_VAL_1: 60, ASSETS_VAL_11: 40', 'INTENT_VAL_5: 20', '34.70.128.113', 63026, 80, '123.108.17.41']), (26770, ['ASSETS_VAL_1: 60, ASSETS_VAL_11: 40', 'INTENT_VAL_5: 20', '34.70.128.113', 63026, 80, '123.108.17.41', 'Attack']), (26770, ['ASSETS_VAL_1: 60, ASSETS_VAL_11: 40', 'INTENT_VAL_5: 20', '34.70.128.113', 63026, 80, '123.108.17.41', 'Attack', 'US']), (26770, ['ASSETS_VAL_1: 60, ASSETS_VAL_11: 40', 'INTENT_VAL_5: 20', '34.70.128.113', 63026, 80, '123.108.17.41', 'US']), (26770, ['ASSETS_VAL_1: 60, ASSETS_VAL_11: 40', 'INTENT_VAL_5: 20', '34.70.128.113', 63026, 80, 'Attack']), (26770, ['ASSETS_VAL_1: 60, ASSETS_VAL_11: 40', 'INTENT_VAL_5: 20', '34.70.128.113', 63026, 80, 'Attack', 'US']), (26770, ['ASSETS_VAL_1: 60, ASSETS_VAL_11: 40', 'INTENT_VAL_5: 20', '34.70.128.113', 63026, 80, 'US']), (26770, ['ASSETS_VAL_1: 60, ASSETS_VAL_11: 40', 'INTENT_VAL_5: 20', '34.70.128.113', 63026, '123.108.17.41']), (26770, ['ASSETS_VAL_1: 60, ASSETS_VAL_11: 40', 'INTENT_VAL_5: 20', '34.70.128.113', 63026, '123.108.17.41', 'Attack']), (26770, ['ASSETS_VAL_1: 60, ASSETS_VAL_11: 40', 'INTENT_VAL_5: 20', '34.70.128.113', 63026, '123.108.17.41', 'Attack', 'US']), (26770, ['ASSETS_VAL_1: 60, ASSETS_VAL_11: 40', 'INTENT_VAL_5: 20', '34.70.128.113', 63026, '123.108.17.41', 'US']), (26770, ['ASSETS_VAL_1: 60, ASSETS_VAL_11: 40', 'INTENT_VAL_5: 20', '34.70.128.113', 63026, 'Attack']), (26770, ['ASSETS_VAL_1: 60, ASSETS_VAL_11: 40', 'INTENT_VAL_5: 20', '34.70.128.113', 63026, 'Attack', 'US']), (26770, ['ASSETS_VAL_1: 60, ASSETS_VAL_11: 40', 'INTENT_VAL_5: 20', '34.70.128.113', 63026, 'US']), (26770, ['ASSETS_VAL_1: 60, ASSETS_VAL_11: 40', 'INTENT_VAL_5: 20', '34.70.128.113', 80]), (26770, ['ASSETS_VAL_1: 60, ASSETS_VAL_11: 40', 'INTENT_VAL_5: 20', '34.70.128.113', 80, '123.108.17.41']), (26770, ['ASSETS_VAL_1: 60, ASSETS_VAL_11: 40', 'INTENT_VAL_5: 20', '34.70.128.113', 80, '123.108.17.41', 'Attack']), (26770, ['ASSETS_VAL_1: 60, ASSETS_VAL_11: 40', 'INTENT_VAL_5: 20', '34.70.128.113', 80, '123.108.17.41', 'Attack', 'US']), (26770, ['ASSETS_VAL_1: 60, ASSETS_VAL_11: 40', 'INTENT_VAL_5: 20', '34.70.128.113', 80, '123.108.17.41', 'US']), (26770, ['ASSETS_VAL_1: 60, ASSETS_VAL_11: 40', 'INTENT_VAL_5: 20', '34.70.128.113', 80, 'Attack']), (26770, ['ASSETS_VAL_1: 60, ASSETS_VAL_11: 40', 'INTENT_VAL_5: 20', '34.70.128.113', 80, 'Attack', 'US']), (26770, ['ASSETS_VAL_1: 60, ASSETS_VAL_11: 40', 'INTENT_VAL_5: 20', '34.70.128.113', 80, 'US']), (26770, ['ASSETS_VAL_1: 60, ASSETS_VAL_11: 40', 'INTENT_VAL_5: 20', '34.70.128.113', '123.108.17.41']), (26770, ['ASSETS_VAL_1: 60, ASSETS_VAL_11: 40', 'INTENT_VAL_5: 20', '34.70.128.113', '123.108.17.41', 'Attack']), (26770, ['ASSETS_VAL_1: 60, ASSETS_VAL_11: 40', 'INTENT_VAL_5: 20', '34.70.128.113', '123.108.17.41', 'Attack', 'US']), (26770, ['ASSETS_VAL_1: 60, ASSETS_VAL_11: 40', 'INTENT_VAL_5: 20', '34.70.128.113', '123.108.17.41', 'US']), (26770, ['ASSETS_VAL_1: 60, ASSETS_VAL_11: 40', 'INTENT_VAL_5: 20', '34.70.128.113', 'Attack']), (26770, ['ASSETS_VAL_1: 60, ASSETS_VAL_11: 40', 'INTENT_VAL_5: 20', '34.70.128.113', 'Attack', 'US']), (26770, ['ASSETS_VAL_1: 60, ASSETS_VAL_11: 40', 'INTENT_VAL_5: 20', '34.70.128.113', 'US']), (26770, ['ASSETS_VAL_1: 60, ASSETS_VAL_11: 40', 'INTENT_VAL_5: 20', 63026]), (26770, ['ASSETS_VAL_1: 60, ASSETS_VAL_11: 40', 'INTENT_VAL_5: 20', 63026, 80]), (26770, ['ASSETS_VAL_1: 60, ASSETS_VAL_11: 40', 'INTENT_VAL_5: 20', 63026, 80, '123.108.17.41']), (26770, ['ASSETS_VAL_1: 60, ASSETS_VAL_11: 40', 'INTENT_VAL_5: 20', 63026, 80, '123.108.17.41', 'Attack']), (26770, ['ASSETS_VAL_1: 60, ASSETS_VAL_11: 40', 'INTENT_VAL_5: 20', 63026, 80, '123.108.17.41', 'Attack', 'US']), (26770, ['ASSETS_VAL_1: 60, ASSETS_VAL_11: 40', 'INTENT_VAL_5: 20', 63026, 80, '123.108.17.41', 'US']), (26770, ['ASSETS_VAL_1: 60, ASSETS_VAL_11: 40', 'INTENT_VAL_5: 20', 63026, 80, 'Attack']), (26770, ['ASSETS_VAL_1: 60, ASSETS_VAL_11: 40', 'INTENT_VAL_5: 20', 63026, 80, 'Attack', 'US']), (26770, ['ASSETS_VAL_1: 60, ASSETS_VAL_11: 40', 'INTENT_VAL_5: 20', 63026, 80, 'US']), (26770, ['ASSETS_VAL_1: 60, ASSETS_VAL_11: 40', 'INTENT_VAL_5: 20', 63026, '123.108.17.41']), (26770, ['ASSETS_VAL_1: 60, ASSETS_VAL_11: 40', 'INTENT_VAL_5: 20', 63026, '123.108.17.41', 'Attack']), (26770, ['ASSETS_VAL_1: 60, ASSETS_VAL_11: 40', 'INTENT_VAL_5: 20', 63026, '123.108.17.41', 'Attack', 'US']), (26770, ['ASSETS_VAL_1: 60, ASSETS_VAL_11: 40', 'INTENT_VAL_5: 20', 63026, '123.108.17.41', 'US']), (26770, ['ASSETS_VAL_1: 60, ASSETS_VAL_11: 40', 'INTENT_VAL_5: 20', 63026, 'Attack']), (26770, ['ASSETS_VAL_1: 60, ASSETS_VAL_11: 40', 'INTENT_VAL_5: 20', 63026, 'Attack', 'US']), (26770, ['ASSETS_VAL_1: 60, ASSETS_VAL_11: 40', 'INTENT_VAL_5: 20', 63026, 'US']), (26770, ['ASSETS_VAL_1: 60, ASSETS_VAL_11: 40', 'INTENT_VAL_5: 20', 80]), (26770, ['ASSETS_VAL_1: 60, ASSETS_VAL_11: 40', 'INTENT_VAL_5: 20', 80, '123.108.17.41']), (26770, ['ASSETS_VAL_1: 60, ASSETS_VAL_11: 40', 'INTENT_VAL_5: 20', 80, '123.108.17.41', 'Attack']), (26770, ['ASSETS_VAL_1: 60, ASSETS_VAL_11: 40', 'INTENT_VAL_5: 20', 80, '123.108.17.41', 'Attack', 'US']), (26770, ['ASSETS_VAL_1: 60, ASSETS_VAL_11: 40', 'INTENT_VAL_5: 20', 80, '123.108.17.41', 'US']), (26770, ['ASSETS_VAL_1: 60, ASSETS_VAL_11: 40', 'INTENT_VAL_5: 20', 80, 'Attack']), (26770, ['ASSETS_VAL_1: 60, ASSETS_VAL_11: 40', 'INTENT_VAL_5: 20', 80, 'Attack', 'US']), (26770, ['ASSETS_VAL_1: 60, ASSETS_VAL_11: 40', 'INTENT_VAL_5: 20', 80, 'US']), (26770, ['ASSETS_VAL_1: 60, ASSETS_VAL_11: 40', 'INTENT_VAL_5: 20', '123.108.17.41']), (26770, ['ASSETS_VAL_1: 60, ASSETS_VAL_11: 40', 'INTENT_VAL_5: 20', '123.108.17.41', 'Attack']), (26770, ['ASSETS_VAL_1: 60, ASSETS_VAL_11: 40', 'INTENT_VAL_5: 20', '123.108.17.41', 'Attack', 'US']), (26770, ['ASSETS_VAL_1: 60, ASSETS_VAL_11: 40', 'INTENT_VAL_5: 20', '123.108.17.41', 'US']), (26770, ['ASSETS_VAL_1: 60, ASSETS_VAL_11: 40', 'INTENT_VAL_5: 20', 'Attack']), (26770, ['ASSETS_VAL_1: 60, ASSETS_VAL_11: 40', 'INTENT_VAL_5: 20', 'Attack', 'US']), (26770, ['ASSETS_VAL_1: 60, ASSETS_VAL_11: 40', 'INTENT_VAL_5: 20', 'US']), (26770, ['ASSETS_VAL_1: 60, ASSETS_VAL_11: 40', '충청북도지원센터']), (26770, ['ASSETS_VAL_1: 60, ASSETS_VAL_11: 40', '충청북도지원센터', '34.70.128.113']), (26770, ['ASSETS_VAL_1: 60, ASSETS_VAL_11: 40', '충청북도지원센터', '34.70.128.113', 63026]), (26770, ['ASSETS_VAL_1: 60, ASSETS_VAL_11: 40', '충청북도지원센터', '34.70.128.113', 63026, 80]), (26770, ['ASSETS_VAL_1: 60, ASSETS_VAL_11: 40', '충청북도지원센터', '34.70.128.113', 63026, 80, '123.108.17.41']), (26770, ['ASSETS_VAL_1: 60, ASSETS_VAL_11: 40', '충청북도지원센터', '34.70.128.113', 63026, 80, '123.108.17.41', 'Attack']), (26770, ['ASSETS_VAL_1: 60, ASSETS_VAL_11: 40', '충청북도지원센터', '34.70.128.113', 63026, 80, '123.108.17.41', 'Attack', 'US']), (26770, ['ASSETS_VAL_1: 60, ASSETS_VAL_11: 40', '충청북도지원센터', '34.70.128.113', 63026, 80, '123.108.17.41', 'US']), (26770, ['ASSETS_VAL_1: 60, ASSETS_VAL_11: 40', '충청북도지원센터', '34.70.128.113', 63026, 80, 'Attack']), (26770, ['ASSETS_VAL_1: 60, ASSETS_VAL_11: 40', '충청북도지원센터', '34.70.128.113', 63026, 80, 'Attack', 'US']), (26770, ['ASSETS_VAL_1: 60, ASSETS_VAL_11: 40', '충청북도지원센터', '34.70.128.113', 63026, 80, 'US']), (26770, ['ASSETS_VAL_1: 60, ASSETS_VAL_11: 40', '충청북도지원센터', '34.70.128.113', 63026, '123.108.17.41']), (26770, ['ASSETS_VAL_1: 60, ASSETS_VAL_11: 40', '충청북도지원센터', '34.70.128.113', 63026, '123.108.17.41', 'Attack']), (26770, ['ASSETS_VAL_1: 60, ASSETS_VAL_11: 40', '충청북도지원센터', '34.70.128.113', 63026, '123.108.17.41', 'Attack', 'US']), (26770, ['ASSETS_VAL_1: 60, ASSETS_VAL_11: 40', '충청북도지원센터', '34.70.128.113', 63026, '123.108.17.41', 'US']), (26770, ['ASSETS_VAL_1: 60, ASSETS_VAL_11: 40', '충청북도지원센터', '34.70.128.113', 63026, 'Attack']), (26770, ['ASSETS_VAL_1: 60, ASSETS_VAL_11: 40', '충청북도지원센터', '34.70.128.113', 63026, 'Attack', 'US']), (26770, ['ASSETS_VAL_1: 60, ASSETS_VAL_11: 40', '충청북도지원센터', '34.70.128.113', 63026, 'US']), (26770, ['ASSETS_VAL_1: 60, ASSETS_VAL_11: 40', '충청북도지원센터', '34.70.128.113', 80]), (26770, ['ASSETS_VAL_1: 60, ASSETS_VAL_11: 40', '충청북도지원센터', '34.70.128.113', 80, '123.108.17.41']), (26770, ['ASSETS_VAL_1: 60, ASSETS_VAL_11: 40', '충청북도지원센터', '34.70.128.113', 80, '123.108.17.41', 'Attack']), (26770, ['ASSETS_VAL_1: 60, ASSETS_VAL_11: 40', '충청북도지원센터', '34.70.128.113', 80, '123.108.17.41', 'Attack', 'US']), (26770, ['ASSETS_VAL_1: 60, ASSETS_VAL_11: 40', '충청북도지원센터', '34.70.128.113', 80, '123.108.17.41', 'US']), (26770, ['ASSETS_VAL_1: 60, ASSETS_VAL_11: 40', '충청북도지원센터', '34.70.128.113', 80, 'Attack']), (26770, ['ASSETS_VAL_1: 60, ASSETS_VAL_11: 40', '충청북도지원센터', '34.70.128.113', 80, 'Attack', 'US']), (26770, ['ASSETS_VAL_1: 60, ASSETS_VAL_11: 40', '충청북도지원센터', '34.70.128.113', 80, 'US']), (26770, ['ASSETS_VAL_1: 60, ASSETS_VAL_11: 40', '충청북도지원센터', '34.70.128.113', '123.108.17.41']), (26770, ['ASSETS_VAL_1: 60, ASSETS_VAL_11: 40', '충청북도지원센터', '34.70.128.113', '123.108.17.41', 'Attack']), (26770, ['ASSETS_VAL_1: 60, ASSETS_VAL_11: 40', '충청북도지원센터', '34.70.128.113', '123.108.17.41', 'Attack', 'US']), (26770, ['ASSETS_VAL_1: 60, ASSETS_VAL_11: 40', '충청북도지원센터', '34.70.128.113', '123.108.17.41', 'US']), (26770, ['ASSETS_VAL_1: 60, ASSETS_VAL_11: 40', '충청북도지원센터', '34.70.128.113', 'Attack']), (26770, ['ASSETS_VAL_1: 60, ASSETS_VAL_11: 40', '충청북도지원센터', '34.70.128.113', 'Attack', 'US']), (26770, ['ASSETS_VAL_1: 60, ASSETS_VAL_11: 40', '충청북도지원센터', '34.70.128.113', 'US']), (26770, ['ASSETS_VAL_1: 60, ASSETS_VAL_11: 40', '충청북도지원센터', 63026]), (26770, ['ASSETS_VAL_1: 60, ASSETS_VAL_11: 40', '충청북도지원센터', 63026, 80]), (26770, ['ASSETS_VAL_1: 60, ASSETS_VAL_11: 40', '충청북도지원센터', 63026, 80, '123.108.17.41']), (26770, ['ASSETS_VAL_1: 60, ASSETS_VAL_11: 40', '충청북도지원센터', 63026, 80, '123.108.17.41', 'Attack']), (26770, ['ASSETS_VAL_1: 60, ASSETS_VAL_11: 40', '충청북도지원센터', 63026, 80, '123.108.17.41', 'Attack', 'US']), (26770, ['ASSETS_VAL_1: 60, ASSETS_VAL_11: 40', '충청북도지원센터', 63026, 80, '123.108.17.41', 'US']), (26770, ['ASSETS_VAL_1: 60, ASSETS_VAL_11: 40', '충청북도지원센터', 63026, 80, 'Attack']), (26770, ['ASSETS_VAL_1: 60, ASSETS_VAL_11: 40', '충청북도지원센터', 63026, 80, 'Attack', 'US']), (26770, ['ASSETS_VAL_1: 60, ASSETS_VAL_11: 40', '충청북도지원센터', 63026, 80, 'US']), (26770, ['ASSETS_VAL_1: 60, ASSETS_VAL_11: 40', '충청북도지원센터', 63026, '123.108.17.41']), (26770, ['ASSETS_VAL_1: 60, ASSETS_VAL_11: 40', '충청북도지원센터', 63026, '123.108.17.41', 'Attack']), (26770, ['ASSETS_VAL_1: 60, ASSETS_VAL_11: 40', '충청북도지원센터', 63026, '123.108.17.41', 'Attack', 'US']), (26770, ['ASSETS_VAL_1: 60, ASSETS_VAL_11: 40', '충청북도지원센터', 63026, '123.108.17.41', 'US']), (26770, ['ASSETS_VAL_1: 60, ASSETS_VAL_11: 40', '충청북도지원센터', 63026, 'Attack']), (26770, ['ASSETS_VAL_1: 60, ASSETS_VAL_11: 40', '충청북도지원센터', 63026, 'Attack', 'US']), (26770, ['ASSETS_VAL_1: 60, ASSETS_VAL_11: 40', '충청북도지원센터', 63026, 'US']), (26770, ['ASSETS_VAL_1: 60, ASSETS_VAL_11: 40', '충청북도지원센터', 80]), (26770, ['ASSETS_VAL_1: 60, ASSETS_VAL_11: 40', '충청북도지원센터', 80, '123.108.17.41']), (26770, ['ASSETS_VAL_1: 60, ASSETS_VAL_11: 40', '충청북도지원센터', 80, '123.108.17.41', 'Attack']), (26770, ['ASSETS_VAL_1: 60, ASSETS_VAL_11: 40', '충청북도지원센터', 80, '123.108.17.41', 'Attack', 'US']), (26770, ['ASSETS_VAL_1: 60, ASSETS_VAL_11: 40', '충청북도지원센터', 80, '123.108.17.41', 'US']), (26770, ['ASSETS_VAL_1: 60, ASSETS_VAL_11: 40', '충청북도지원센터', 80, 'Attack']), (26770, ['ASSETS_VAL_1: 60, ASSETS_VAL_11: 40', '충청북도지원센터', 80, 'Attack', 'US']), (26770, ['ASSETS_VAL_1: 60, ASSETS_VAL_11: 40', '충청북도지원센터', 80, 'US']), (26770, ['ASSETS_VAL_1: 60, ASSETS_VAL_11: 40', '충청북도지원센터', '123.108.17.41']), (26770, ['ASSETS_VAL_1: 60, ASSETS_VAL_11: 40', '충청북도지원센터', '123.108.17.41', 'Attack']), (26770, ['ASSETS_VAL_1: 60, ASSETS_VAL_11: 40', '충청북도지원센터', '123.108.17.41', 'Attack', 'US']), (26770, ['ASSETS_VAL_1: 60, ASSETS_VAL_11: 40', '충청북도지원센터', '123.108.17.41', 'US']), (26770, ['ASSETS_VAL_1: 60, ASSETS_VAL_11: 40', '충청북도지원센터', 'Attack']), (26770, ['ASSETS_VAL_1: 60, ASSETS_VAL_11: 40', '충청북도지원센터', 'Attack', 'US']), (26770, ['ASSETS_VAL_1: 60, ASSETS_VAL_11: 40', '충청북도지원센터', 'US']), (26770, ['ASSETS_VAL_1: 60, ASSETS_VAL_11: 40', '34.70.128.113']), (26770, ['ASSETS_VAL_1: 60, ASSETS_VAL_11: 40', '34.70.128.113', 63026]), (26770, ['ASSETS_VAL_1: 60, ASSETS_VAL_11: 40', '34.70.128.113', 63026, 80]), (26770, ['ASSETS_VAL_1: 60, ASSETS_VAL_11: 40', '34.70.128.113', 63026, 80, '123.108.17.41']), (26770, ['ASSETS_VAL_1: 60, ASSETS_VAL_11: 40', '34.70.128.113', 63026, 80, '123.108.17.41', 'Attack']), (26770, ['ASSETS_VAL_1: 60, ASSETS_VAL_11: 40', '34.70.128.113', 63026, 80, '123.108.17.41', 'Attack', 'US']), (26770, ['ASSETS_VAL_1: 60, ASSETS_VAL_11: 40', '34.70.128.113', 63026, 80, '123.108.17.41', 'US']), (26770, ['ASSETS_VAL_1: 60, ASSETS_VAL_11: 40', '34.70.128.113', 63026, 80, 'Attack']), (26770, ['ASSETS_VAL_1: 60, ASSETS_VAL_11: 40', '34.70.128.113', 63026, 80, 'Attack', 'US']), (26770, ['ASSETS_VAL_1: 60, ASSETS_VAL_11: 40', '34.70.128.113', 63026, 80, 'US']), (26770, ['ASSETS_VAL_1: 60, ASSETS_VAL_11: 40', '34.70.128.113', 63026, '123.108.17.41']), (26770, ['ASSETS_VAL_1: 60, ASSETS_VAL_11: 40', '34.70.128.113', 63026, '123.108.17.41', 'Attack']), (26770, ['ASSETS_VAL_1: 60, ASSETS_VAL_11: 40', '34.70.128.113', 63026, '123.108.17.41', 'Attack', 'US']), (26770, ['ASSETS_VAL_1: 60, ASSETS_VAL_11: 40', '34.70.128.113', 63026, '123.108.17.41', 'US']), (26770, ['ASSETS_VAL_1: 60, ASSETS_VAL_11: 40', '34.70.128.113', 63026, 'Attack']), (26770, ['ASSETS_VAL_1: 60, ASSETS_VAL_11: 40', '34.70.128.113', 63026, 'Attack', 'US']), (26770, ['ASSETS_VAL_1: 60, ASSETS_VAL_11: 40', '34.70.128.113', 63026, 'US']), (26770, ['ASSETS_VAL_1: 60, ASSETS_VAL_11: 40', '34.70.128.113', 80]), (26770, ['ASSETS_VAL_1: 60, ASSETS_VAL_11: 40', '34.70.128.113', 80, '123.108.17.41']), (26770, ['ASSETS_VAL_1: 60, ASSETS_VAL_11: 40', '34.70.128.113', 80, '123.108.17.41', 'Attack']), (26770, ['ASSETS_VAL_1: 60, ASSETS_VAL_11: 40', '34.70.128.113', 80, '123.108.17.41', 'Attack', 'US']), (26770, ['ASSETS_VAL_1: 60, ASSETS_VAL_11: 40', '34.70.128.113', 80, '123.108.17.41', 'US']), (26770, ['ASSETS_VAL_1: 60, ASSETS_VAL_11: 40', '34.70.128.113', 80, 'Attack']), (26770, ['ASSETS_VAL_1: 60, ASSETS_VAL_11: 40', '34.70.128.113', 80, 'Attack', 'US']), (26770, ['ASSETS_VAL_1: 60, ASSETS_VAL_11: 40', '34.70.128.113', 80, 'US']), (26770, ['ASSETS_VAL_1: 60, ASSETS_VAL_11: 40', '34.70.128.113', '123.108.17.41']), (26770, ['ASSETS_VAL_1: 60, ASSETS_VAL_11: 40', '34.70.128.113', '123.108.17.41', 'Attack']), (26770, ['ASSETS_VAL_1: 60, ASSETS_VAL_11: 40', '34.70.128.113', '123.108.17.41', 'Attack', 'US']), (26770, ['ASSETS_VAL_1: 60, ASSETS_VAL_11: 40', '34.70.128.113', '123.108.17.41', 'US']), (26770, ['ASSETS_VAL_1: 60, ASSETS_VAL_11: 40', '34.70.128.113', 'Attack']), (26770, ['ASSETS_VAL_1: 60, ASSETS_VAL_11: 40', '34.70.128.113', 'Attack', 'US']), (26770, ['ASSETS_VAL_1: 60, ASSETS_VAL_11: 40', '34.70.128.113', 'US']), (26770, ['ASSETS_VAL_1: 60, ASSETS_VAL_11: 40', 63026]), (26770, ['ASSETS_VAL_1: 60, ASSETS_VAL_11: 40', 63026, 80]), (26770, ['ASSETS_VAL_1: 60, ASSETS_VAL_11: 40', 63026, 80, '123.108.17.41']), (26770, ['ASSETS_VAL_1: 60, ASSETS_VAL_11: 40', 63026, 80, '123.108.17.41', 'Attack']), (26770, ['ASSETS_VAL_1: 60, ASSETS_VAL_11: 40', 63026, 80, '123.108.17.41', 'Attack', 'US']), (26770, ['ASSETS_VAL_1: 60, ASSETS_VAL_11: 40', 63026, 80, '123.108.17.41', 'US']), (26770, ['ASSETS_VAL_1: 60, ASSETS_VAL_11: 40', 63026, 80, 'Attack']), (26770, ['ASSETS_VAL_1: 60, ASSETS_VAL_11: 40', 63026, 80, 'Attack', 'US']), (26770, ['ASSETS_VAL_1: 60, ASSETS_VAL_11: 40', 63026, 80, 'US']), (26770, ['ASSETS_VAL_1: 60, ASSETS_VAL_11: 40', 63026, '123.108.17.41']), (26770, ['ASSETS_VAL_1: 60, ASSETS_VAL_11: 40', 63026, '123.108.17.41', 'Attack']), (26770, ['ASSETS_VAL_1: 60, ASSETS_VAL_11: 40', 63026, '123.108.17.41', 'Attack', 'US']), (26770, ['ASSETS_VAL_1: 60, ASSETS_VAL_11: 40', 63026, '123.108.17.41', 'US']), (26770, ['ASSETS_VAL_1: 60, ASSETS_VAL_11: 40', 63026, 'Attack']), (26770, ['ASSETS_VAL_1: 60, ASSETS_VAL_11: 40', 63026, 'Attack', 'US']), (26770, ['ASSETS_VAL_1: 60, ASSETS_VAL_11: 40', 63026, 'US']), (26770, ['ASSETS_VAL_1: 60, ASSETS_VAL_11: 40', 80]), (26770, ['ASSETS_VAL_1: 60, ASSETS_VAL_11: 40', 80, '123.108.17.41']), (26770, ['ASSETS_VAL_1: 60, ASSETS_VAL_11: 40', 80, '123.108.17.41', 'Attack']), (26770, ['ASSETS_VAL_1: 60, ASSETS_VAL_11: 40', 80, '123.108.17.41', 'Attack', 'US']), (26770, ['ASSETS_VAL_1: 60, ASSETS_VAL_11: 40', 80, '123.108.17.41', 'US']), (26770, ['ASSETS_VAL_1: 60, ASSETS_VAL_11: 40', 80, 'Attack']), (26770, ['ASSETS_VAL_1: 60, ASSETS_VAL_11: 40', 80, 'Attack', 'US']), (26770, ['ASSETS_VAL_1: 60, ASSETS_VAL_11: 40', 80, 'US']), (26770, ['ASSETS_VAL_1: 60, ASSETS_VAL_11: 40', '123.108.17.41']), (26770, ['ASSETS_VAL_1: 60, ASSETS_VAL_11: 40', '123.108.17.41', 'Attack']), (26770, ['ASSETS_VAL_1: 60, ASSETS_VAL_11: 40', '123.108.17.41', 'Attack', 'US']), (26770, ['ASSETS_VAL_1: 60, ASSETS_VAL_11: 40', '123.108.17.41', 'US']), (26770, ['ASSETS_VAL_1: 60, ASSETS_VAL_11: 40', 'Attack']), (26770, ['ASSETS_VAL_1: 60, ASSETS_VAL_11: 40', 'Attack', 'US']), (26770, ['ASSETS_VAL_1: 60, ASSETS_VAL_11: 40', 'US']), (26770, ['INTENT_VAL_5: 20']), (26770, ['INTENT_VAL_5: 20', '충청북도지원센터']), (26770, ['INTENT_VAL_5: 20', '충청북도지원센터', '34.70.128.113']), (26770, ['INTENT_VAL_5: 20', '충청북도지원센터', '34.70.128.113', 63026]), (26770, ['INTENT_VAL_5: 20', '충청북도지원센터', '34.70.128.113', 63026, 80]), (26770, ['INTENT_VAL_5: 20', '충청북도지원센터', '34.70.128.113', 63026, 80, '123.108.17.41']), (26770, ['INTENT_VAL_5: 20', '충청북도지원센터', '34.70.128.113', 63026, 80, '123.108.17.41', 'Attack']), (26770, ['INTENT_VAL_5: 20', '충청북도지원센터', '34.70.128.113', 63026, 80, '123.108.17.41', 'Attack', 'US']), (26770, ['INTENT_VAL_5: 20', '충청북도지원센터', '34.70.128.113', 63026, 80, '123.108.17.41', 'US']), (26770, ['INTENT_VAL_5: 20', '충청북도지원센터', '34.70.128.113', 63026, 80, 'Attack']), (26770, ['INTENT_VAL_5: 20', '충청북도지원센터', '34.70.128.113', 63026, 80, 'Attack', 'US']), (26770, ['INTENT_VAL_5: 20', '충청북도지원센터', '34.70.128.113', 63026, 80, 'US']), (26770, ['INTENT_VAL_5: 20', '충청북도지원센터', '34.70.128.113', 63026, '123.108.17.41']), (26770, ['INTENT_VAL_5: 20', '충청북도지원센터', '34.70.128.113', 63026, '123.108.17.41', 'Attack']), (26770, ['INTENT_VAL_5: 20', '충청북도지원센터', '34.70.128.113', 63026, '123.108.17.41', 'Attack', 'US']), (26770, ['INTENT_VAL_5: 20', '충청북도지원센터', '34.70.128.113', 63026, '123.108.17.41', 'US']), (26770, ['INTENT_VAL_5: 20', '충청북도지원센터', '34.70.128.113', 63026, 'Attack']), (26770, ['INTENT_VAL_5: 20', '충청북도지원센터', '34.70.128.113', 63026, 'Attack', 'US']), (26770, ['INTENT_VAL_5: 20', '충청북도지원센터', '34.70.128.113', 63026, 'US']), (26770, ['INTENT_VAL_5: 20', '충청북도지원센터', '34.70.128.113', 80]), (26770, ['INTENT_VAL_5: 20', '충청북도지원센터', '34.70.128.113', 80, '123.108.17.41']), (26770, ['INTENT_VAL_5: 20', '충청북도지원센터', '34.70.128.113', 80, '123.108.17.41', 'Attack']), (26770, ['INTENT_VAL_5: 20', '충청북도지원센터', '34.70.128.113', 80, '123.108.17.41', 'Attack', 'US']), (26770, ['INTENT_VAL_5: 20', '충청북도지원센터', '34.70.128.113', 80, '123.108.17.41', 'US']), (26770, ['INTENT_VAL_5: 20', '충청북도지원센터', '34.70.128.113', 80, 'Attack']), (26770, ['INTENT_VAL_5: 20', '충청북도지원센터', '34.70.128.113', 80, 'Attack', 'US']), (26770, ['INTENT_VAL_5: 20', '충청북도지원센터', '34.70.128.113', 80, 'US']), (26770, ['INTENT_VAL_5: 20', '충청북도지원센터', '34.70.128.113', '123.108.17.41']), (26770, ['INTENT_VAL_5: 20', '충청북도지원센터', '34.70.128.113', '123.108.17.41', 'Attack']), (26770, ['INTENT_VAL_5: 20', '충청북도지원센터', '34.70.128.113', '123.108.17.41', 'Attack', 'US']), (26770, ['INTENT_VAL_5: 20', '충청북도지원센터', '34.70.128.113', '123.108.17.41', 'US']), (26770, ['INTENT_VAL_5: 20', '충청북도지원센터', '34.70.128.113', 'Attack']), (26770, ['INTENT_VAL_5: 20', '충청북도지원센터', '34.70.128.113', 'Attack', 'US']), (26770, ['INTENT_VAL_5: 20', '충청북도지원센터', '34.70.128.113', 'US']), (26770, ['INTENT_VAL_5: 20', '충청북도지원센터', 63026]), (26770, ['INTENT_VAL_5: 20', '충청북도지원센터', 63026, 80]), (26770, ['INTENT_VAL_5: 20', '충청북도지원센터', 63026, 80, '123.108.17.41']), (26770, ['INTENT_VAL_5: 20', '충청북도지원센터', 63026, 80, '123.108.17.41', 'Attack']), (26770, ['INTENT_VAL_5: 20', '충청북도지원센터', 63026, 80, '123.108.17.41', 'Attack', 'US']), (26770, ['INTENT_VAL_5: 20', '충청북도지원센터', 63026, 80, '123.108.17.41', 'US']), (26770, ['INTENT_VAL_5: 20', '충청북도지원센터', 63026, 80, 'Attack']), (26770, ['INTENT_VAL_5: 20', '충청북도지원센터', 63026, 80, 'Attack', 'US']), (26770, ['INTENT_VAL_5: 20', '충청북도지원센터', 63026, 80, 'US']), (26770, ['INTENT_VAL_5: 20', '충청북도지원센터', 63026, '123.108.17.41']), (26770, ['INTENT_VAL_5: 20', '충청북도지원센터', 63026, '123.108.17.41', 'Attack']), (26770, ['INTENT_VAL_5: 20', '충청북도지원센터', 63026, '123.108.17.41', 'Attack', 'US']), (26770, ['INTENT_VAL_5: 20', '충청북도지원센터', 63026, '123.108.17.41', 'US']), (26770, ['INTENT_VAL_5: 20', '충청북도지원센터', 63026, 'Attack']), (26770, ['INTENT_VAL_5: 20', '충청북도지원센터', 63026, 'Attack', 'US']), (26770, ['INTENT_VAL_5: 20', '충청북도지원센터', 63026, 'US']), (26770, ['INTENT_VAL_5: 20', '충청북도지원센터', 80]), (26770, ['INTENT_VAL_5: 20', '충청북도지원센터', 80, '123.108.17.41']), (26770, ['INTENT_VAL_5: 20', '충청북도지원센터', 80, '123.108.17.41', 'Attack']), (26770, ['INTENT_VAL_5: 20', '충청북도지원센터', 80, '123.108.17.41', 'Attack', 'US']), (26770, ['INTENT_VAL_5: 20', '충청북도지원센터', 80, '123.108.17.41', 'US']), (26770, ['INTENT_VAL_5: 20', '충청북도지원센터', 80, 'Attack']), (26770, ['INTENT_VAL_5: 20', '충청북도지원센터', 80, 'Attack', 'US']), (26770, ['INTENT_VAL_5: 20', '충청북도지원센터', 80, 'US']), (26770, ['INTENT_VAL_5: 20', '충청북도지원센터', '123.108.17.41']), (26770, ['INTENT_VAL_5: 20', '충청북도지원센터', '123.108.17.41', 'Attack']), (26770, ['INTENT_VAL_5: 20', '충청북도지원센터', '123.108.17.41', 'Attack', 'US']), (26770, ['INTENT_VAL_5: 20', '충청북도지원센터', '123.108.17.41', 'US']), (26770, ['INTENT_VAL_5: 20', '충청북도지원센터', 'Attack']), (26770, ['INTENT_VAL_5: 20', '충청북도지원센터', 'Attack', 'US']), (26770, ['INTENT_VAL_5: 20', '충청북도지원센터', 'US']), (26770, ['INTENT_VAL_5: 20', '34.70.128.113']), (26770, ['INTENT_VAL_5: 20', '34.70.128.113', 63026]), (26770, ['INTENT_VAL_5: 20', '34.70.128.113', 63026, 80]), (26770, ['INTENT_VAL_5: 20', '34.70.128.113', 63026, 80, '123.108.17.41']), (26770, ['INTENT_VAL_5: 20', '34.70.128.113', 63026, 80, '123.108.17.41', 'Attack']), (26770, ['INTENT_VAL_5: 20', '34.70.128.113', 63026, 80, '123.108.17.41', 'Attack', 'US']), (26770, ['INTENT_VAL_5: 20', '34.70.128.113', 63026, 80, '123.108.17.41', 'US']), (26770, ['INTENT_VAL_5: 20', '34.70.128.113', 63026, 80, 'Attack']), (26770, ['INTENT_VAL_5: 20', '34.70.128.113', 63026, 80, 'Attack', 'US']), (26770, ['INTENT_VAL_5: 20', '34.70.128.113', 63026, 80, 'US']), (26770, ['INTENT_VAL_5: 20', '34.70.128.113', 63026, '123.108.17.41']), (26770, ['INTENT_VAL_5: 20', '34.70.128.113', 63026, '123.108.17.41', 'Attack']), (26770, ['INTENT_VAL_5: 20', '34.70.128.113', 63026, '123.108.17.41', 'Attack', 'US']), (26770, ['INTENT_VAL_5: 20', '34.70.128.113', 63026, '123.108.17.41', 'US']), (26770, ['INTENT_VAL_5: 20', '34.70.128.113', 63026, 'Attack']), (26770, ['INTENT_VAL_5: 20', '34.70.128.113', 63026, 'Attack', 'US']), (26770, ['INTENT_VAL_5: 20', '34.70.128.113', 63026, 'US']), (26770, ['INTENT_VAL_5: 20', '34.70.128.113', 80]), (26770, ['INTENT_VAL_5: 20', '34.70.128.113', 80, '123.108.17.41']), (26770, ['INTENT_VAL_5: 20', '34.70.128.113', 80, '123.108.17.41', 'Attack']), (26770, ['INTENT_VAL_5: 20', '34.70.128.113', 80, '123.108.17.41', 'Attack', 'US']), (26770, ['INTENT_VAL_5: 20', '34.70.128.113', 80, '123.108.17.41', 'US']), (26770, ['INTENT_VAL_5: 20', '34.70.128.113', 80, 'Attack']), (26770, ['INTENT_VAL_5: 20', '34.70.128.113', 80, 'Attack', 'US']), (26770, ['INTENT_VAL_5: 20', '34.70.128.113', 80, 'US']), (26770, ['INTENT_VAL_5: 20', '34.70.128.113', '123.108.17.41']), (26770, ['INTENT_VAL_5: 20', '34.70.128.113', '123.108.17.41', 'Attack']), (26770, ['INTENT_VAL_5: 20', '34.70.128.113', '123.108.17.41', 'Attack', 'US']), (26770, ['INTENT_VAL_5: 20', '34.70.128.113', '123.108.17.41', 'US']), (26770, ['INTENT_VAL_5: 20', '34.70.128.113', 'Attack']), (26770, ['INTENT_VAL_5: 20', '34.70.128.113', 'Attack', 'US']), (26770, ['INTENT_VAL_5: 20', '34.70.128.113', 'US']), (26770, ['INTENT_VAL_5: 20', 63026]), (26770, ['INTENT_VAL_5: 20', 63026, 80]), (26770, ['INTENT_VAL_5: 20', 63026, 80, '123.108.17.41']), (26770, ['INTENT_VAL_5: 20', 63026, 80, '123.108.17.41', 'Attack']), (26770, ['INTENT_VAL_5: 20', 63026, 80, '123.108.17.41', 'Attack', 'US']), (26770, ['INTENT_VAL_5: 20', 63026, 80, '123.108.17.41', 'US']), (26770, ['INTENT_VAL_5: 20', 63026, 80, 'Attack']), (26770, ['INTENT_VAL_5: 20', 63026, 80, 'Attack', 'US']), (26770, ['INTENT_VAL_5: 20', 63026, 80, 'US']), (26770, ['INTENT_VAL_5: 20', 63026, '123.108.17.41']), (26770, ['INTENT_VAL_5: 20', 63026, '123.108.17.41', 'Attack']), (26770, ['INTENT_VAL_5: 20', 63026, '123.108.17.41', 'Attack', 'US']), (26770, ['INTENT_VAL_5: 20', 63026, '123.108.17.41', 'US']), (26770, ['INTENT_VAL_5: 20', 63026, 'Attack']), (26770, ['INTENT_VAL_5: 20', 63026, 'Attack', 'US']), (26770, ['INTENT_VAL_5: 20', 63026, 'US']), (26770, ['INTENT_VAL_5: 20', 80]), (26770, ['INTENT_VAL_5: 20', 80, '123.108.17.41']), (26770, ['INTENT_VAL_5: 20', 80, '123.108.17.41', 'Attack']), (26770, ['INTENT_VAL_5: 20', 80, '123.108.17.41', 'Attack', 'US']), (26770, ['INTENT_VAL_5: 20', 80, '123.108.17.41', 'US']), (26770, ['INTENT_VAL_5: 20', 80, 'Attack']), (26770, ['INTENT_VAL_5: 20', 80, 'Attack', 'US']), (26770, ['INTENT_VAL_5: 20', 80, 'US']), (26770, ['INTENT_VAL_5: 20', '123.108.17.41']), (26770, ['INTENT_VAL_5: 20', '123.108.17.41', 'Attack']), (26770, ['INTENT_VAL_5: 20', '123.108.17.41', 'Attack', 'US']), (26770, ['INTENT_VAL_5: 20', '123.108.17.41', 'US']), (26770, ['INTENT_VAL_5: 20', 'Attack']), (26770, ['INTENT_VAL_5: 20', 'Attack', 'US']), (26770, ['INTENT_VAL_5: 20', 'US']), (26770, ['충청북도지원센터']), (26770, ['충청북도지원센터', '34.70.128.113']), (26770, ['충청북도지원센터', '34.70.128.113', 63026]), (26770, ['충청북도지원센터', '34.70.128.113', 63026, 80]), (26770, ['충청북도지원센터', '34.70.128.113', 63026, 80, '123.108.17.41']), (26770, ['충청북도지원센터', '34.70.128.113', 63026, 80, '123.108.17.41', 'Attack']), (26770, ['충청북도지원센터', '34.70.128.113', 63026, 80, '123.108.17.41', 'Attack', 'US']), (26770, ['충청북도지원센터', '34.70.128.113', 63026, 80, '123.108.17.41', 'US']), (26770, ['충청북도지원센터', '34.70.128.113', 63026, 80, 'Attack']), (26770, ['충청북도지원센터', '34.70.128.113', 63026, 80, 'Attack', 'US']), (26770, ['충청북도지원센터', '34.70.128.113', 63026, 80, 'US']), (26770, ['충청북도지원센터', '34.70.128.113', 63026, '123.108.17.41']), (26770, ['충청북도지원센터', '34.70.128.113', 63026, '123.108.17.41', 'Attack']), (26770, ['충청북도지원센터', '34.70.128.113', 63026, '123.108.17.41', 'Attack', 'US']), (26770, ['충청북도지원센터', '34.70.128.113', 63026, '123.108.17.41', 'US']), (26770, ['충청북도지원센터', '34.70.128.113', 63026, 'Attack']), (26770, ['충청북도지원센터', '34.70.128.113', 63026, 'Attack', 'US']), (26770, ['충청북도지원센터', '34.70.128.113', 63026, 'US']), (26770, ['충청북도지원센터', '34.70.128.113', 80]), (26770, ['충청북도지원센터', '34.70.128.113', 80, '123.108.17.41']), (26770, ['충청북도지원센터', '34.70.128.113', 80, '123.108.17.41', 'Attack']), (26770, ['충청북도지원센터', '34.70.128.113', 80, '123.108.17.41', 'Attack', 'US']), (26770, ['충청북도지원센터', '34.70.128.113', 80, '123.108.17.41', 'US']), (26770, ['충청북도지원센터', '34.70.128.113', 80, 'Attack']), (26770, ['충청북도지원센터', '34.70.128.113', 80, 'Attack', 'US']), (26770, ['충청북도지원센터', '34.70.128.113', 80, 'US']), (26770, ['충청북도지원센터', '34.70.128.113', '123.108.17.41']), (26770, ['충청북도지원센터', '34.70.128.113', '123.108.17.41', 'Attack']), (26770, ['충청북도지원센터', '34.70.128.113', '123.108.17.41', 'Attack', 'US']), (26770, ['충청북도지원센터', '34.70.128.113', '123.108.17.41', 'US']), (26770, ['충청북도지원센터', '34.70.128.113', 'Attack']), (26770, ['충청북도지원센터', '34.70.128.113', 'Attack', 'US']), (26770, ['충청북도지원센터', '34.70.128.113', 'US']), (26770, ['충청북도지원센터', 63026]), (26770, ['충청북도지원센터', 63026, 80]), (26770, ['충청북도지원센터', 63026, 80, '123.108.17.41']), (26770, ['충청북도지원센터', 63026, 80, '123.108.17.41', 'Attack']), (26770, ['충청북도지원센터', 63026, 80, '123.108.17.41', 'Attack', 'US']), (26770, ['충청북도지원센터', 63026, 80, '123.108.17.41', 'US']), (26770, ['충청북도지원센터', 63026, 80, 'Attack']), (26770, ['충청북도지원센터', 63026, 80, 'Attack', 'US']), (26770, ['충청북도지원센터', 63026, 80, 'US']), (26770, ['충청북도지원센터', 63026, '123.108.17.41']), (26770, ['충청북도지원센터', 63026, '123.108.17.41', 'Attack']), (26770, ['충청북도지원센터', 63026, '123.108.17.41', 'Attack', 'US']), (26770, ['충청북도지원센터', 63026, '123.108.17.41', 'US']), (26770, ['충청북도지원센터', 63026, 'Attack']), (26770, ['충청북도지원센터', 63026, 'Attack', 'US']), (26770, ['충청북도지원센터', 63026, 'US']), (26770, ['충청북도지원센터', 80]), (26770, ['충청북도지원센터', 80, '123.108.17.41']), (26770, ['충청북도지원센터', 80, '123.108.17.41', 'Attack']), (26770, ['충청북도지원센터', 80, '123.108.17.41', 'Attack', 'US']), (26770, ['충청북도지원센터', 80, '123.108.17.41', 'US']), (26770, ['충청북도지원센터', 80, 'Attack']), (26770, ['충청북도지원센터', 80, 'Attack', 'US']), (26770, ['충청북도지원센터', 80, 'US']), (26770, ['충청북도지원센터', '123.108.17.41']), (26770, ['충청북도지원센터', '123.108.17.41', 'Attack']), (26770, ['충청북도지원센터', '123.108.17.41', 'Attack', 'US']), (26770, ['충청북도지원센터', '123.108.17.41', 'US']), (26770, ['충청북도지원센터', 'Attack']), (26770, ['충청북도지원센터', 'Attack', 'US']), (26770, ['충청북도지원센터', 'US']), (26770, ['34.70.128.113']), (26770, ['34.70.128.113', 63026]), (26770, ['34.70.128.113', 63026, 80]), (26770, ['34.70.128.113', 63026, 80, '123.108.17.41']), (26770, ['34.70.128.113', 63026, 80, '123.108.17.41', 'Attack']), (26770, ['34.70.128.113', 63026, 80, '123.108.17.41', 'Attack', 'US']), (26770, ['34.70.128.113', 63026, 80, '123.108.17.41', 'US']), (26770, ['34.70.128.113', 63026, 80, 'Attack']), (26770, ['34.70.128.113', 63026, 80, 'Attack', 'US']), (26770, ['34.70.128.113', 63026, 80, 'US']), (26770, ['34.70.128.113', 63026, '123.108.17.41']), (26770, ['34.70.128.113', 63026, '123.108.17.41', 'Attack']), (26770, ['34.70.128.113', 63026, '123.108.17.41', 'Attack', 'US']), (26770, ['34.70.128.113', 63026, '123.108.17.41', 'US']), (26770, ['34.70.128.113', 63026, 'Attack']), (26770, ['34.70.128.113', 63026, 'Attack', 'US']), (26770, ['34.70.128.113', 63026, 'US']), (26770, ['34.70.128.113', 80]), (26770, ['34.70.128.113', 80, '123.108.17.41']), (26770, ['34.70.128.113', 80, '123.108.17.41', 'Attack']), (26770, ['34.70.128.113', 80, '123.108.17.41', 'Attack', 'US']), (26770, ['34.70.128.113', 80, '123.108.17.41', 'US']), (26770, ['34.70.128.113', 80, 'Attack']), (26770, ['34.70.128.113', 80, 'Attack', 'US']), (26770, ['34.70.128.113', 80, 'US']), (26770, ['34.70.128.113', '123.108.17.41']), (26770, ['34.70.128.113', '123.108.17.41', 'Attack']), (26770, ['34.70.128.113', '123.108.17.41', 'Attack', 'US']), (26770, ['34.70.128.113', '123.108.17.41', 'US']), (26770, ['34.70.128.113', 'Attack']), (26770, ['34.70.128.113', 'Attack', 'US']), (26770, ['34.70.128.113', 'US']), (26770, [63026]), (26770, [63026, 80]), (26770, [63026, 80, '123.108.17.41']), (26770, [63026, 80, '123.108.17.41', 'Attack']), (26770, [63026, 80, '123.108.17.41', 'Attack', 'US']), (26770, [63026, 80, '123.108.17.41', 'US']), (26770, [63026, 80, 'Attack']), (26770, [63026, 80, 'Attack', 'US']), (26770, [63026, 80, 'US']), (26770, [63026, '123.108.17.41']), (26770, [63026, '123.108.17.41', 'Attack']), (26770, [63026, '123.108.17.41', 'Attack', 'US']), (26770, [63026, '123.108.17.41', 'US']), (26770, [63026, 'Attack']), (26770, [63026, 'Attack', 'US']), (26770, [63026, 'US']), (26771, [80]), (26770, [80, '123.108.17.41']), (26770, [80, '123.108.17.41', 'Attack']), (26770, [80, '123.108.17.41', 'Attack', 'US']), (26770, [80, '123.108.17.41', 'US']), (26770, [80, 'Attack']), (26770, [80, 'Attack', 'US']), (26771, [80, 'US']), (26770, ['123.108.17.41']), (26770, ['123.108.17.41', 'Attack']), (26770, ['123.108.17.41', 'Attack', 'US']), (26770, ['123.108.17.41', 'US']), (26770, ['Attack']), (26770, ['Attack', 'US']), (26771, ['US'])]\n"
     ]
    }
   ],
   "source": [
    "# 1. 빈도수가 데이터의 절반 이상인 것을 빈도순으로 배열\n",
    "print(ps.frequent(len(data)/2))"
   ]
  },
  {
   "cell_type": "code",
   "execution_count": null,
   "id": "166e496b",
   "metadata": {},
   "outputs": [],
   "source": []
  },
  {
   "cell_type": "code",
   "execution_count": 14,
   "id": "f84768c5",
   "metadata": {},
   "outputs": [
    {
     "name": "stdout",
     "output_type": "stream",
     "text": [
      "[(26771, [80, 'US']), (26770, ['ASSETS_VAL_1: 60, ASSETS_VAL_11: 40', 'INTENT_VAL_5: 20', '충청북도지원센터', '34.70.128.113', 63026, 80, '123.108.17.41', 'Attack', 'US']), (1, ['ASSETS_VAL_1: 60, None', 'INTENT_VAL_2: 80', '국민univ', '104.18.56.68', 80, 51318, '210.123.34.247', 'Malwr', 'US'])]\n"
     ]
    }
   ],
   "source": [
    "# 2. 빈도수 TOP 5, closed : A pattern is closed if there is no super-pattern with the same frequency.\n",
    "print(ps.topk(5, closed=True))"
   ]
  },
  {
   "cell_type": "code",
   "execution_count": 15,
   "id": "5881d051",
   "metadata": {},
   "outputs": [
    {
     "name": "stdout",
     "output_type": "stream",
     "text": [
      "[(26770, ['ASSETS_VAL_1: 60, ASSETS_VAL_11: 40', 'INTENT_VAL_5: 20', '충청북도지원센터', '34.70.128.113', 63026, 80, '123.108.17.41', 'Attack', 'US']), (26771, [80, 'US'])]\n"
     ]
    }
   ],
   "source": [
    "# 3. 빈도수 2 이상, closed \n",
    "print(ps.frequent(2, closed=True))"
   ]
  },
  {
   "cell_type": "code",
   "execution_count": 16,
   "id": "bc8226f8",
   "metadata": {},
   "outputs": [
    {
     "name": "stdout",
     "output_type": "stream",
     "text": [
      "[(26770, ['ASSETS_VAL_1: 60, ASSETS_VAL_11: 40']), (26770, ['INTENT_VAL_5: 20']), (26770, ['충청북도지원센터']), (26770, ['34.70.128.113']), (26770, [63026]), (26770, ['123.108.17.41']), (26770, ['Attack'])]\n"
     ]
    }
   ],
   "source": [
    "# 4. 빈도수 2 이상, generator :  A pattern is generator if there is no sub-pattern with the same frequency\n",
    "print(ps.frequent(2, generator=True))"
   ]
  }
 ],
 "metadata": {
  "kernelspec": {
   "display_name": "Python 3",
   "language": "python",
   "name": "python3"
  },
  "language_info": {
   "codemirror_mode": {
    "name": "ipython",
    "version": 3
   },
   "file_extension": ".py",
   "mimetype": "text/x-python",
   "name": "python",
   "nbconvert_exporter": "python",
   "pygments_lexer": "ipython3",
   "version": "3.8.8"
  }
 },
 "nbformat": 4,
 "nbformat_minor": 5
}
